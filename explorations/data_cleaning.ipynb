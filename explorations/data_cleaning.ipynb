{
 "cells": [
  {
   "cell_type": "markdown",
   "id": "052aa8a7",
   "metadata": {},
   "source": [
    "# Cleaning data"
   ]
  },
  {
   "cell_type": "markdown",
   "id": "29aa83c6",
   "metadata": {},
   "source": [
    "### load and import"
   ]
  },
  {
   "cell_type": "code",
   "execution_count": 2,
   "id": "f60e5763",
   "metadata": {},
   "outputs": [],
   "source": [
    "import pandas as pd\n",
    "from Cleaning_functions import split_features_target, fillna_mean_median, handle_outliers\n",
    "from taxipred.utils.constants import get_taxi_data\n",
    "df = get_taxi_data()"
   ]
  },
  {
   "cell_type": "markdown",
   "id": "961f992e",
   "metadata": {},
   "source": [
    "### Sort data into target and numeric, categoric feats"
   ]
  },
  {
   "cell_type": "code",
   "execution_count": 3,
   "id": "1b1db0bf",
   "metadata": {},
   "outputs": [
    {
     "data": {
      "text/html": [
       "<div>\n",
       "<style scoped>\n",
       "    .dataframe tbody tr th:only-of-type {\n",
       "        vertical-align: middle;\n",
       "    }\n",
       "\n",
       "    .dataframe tbody tr th {\n",
       "        vertical-align: top;\n",
       "    }\n",
       "\n",
       "    .dataframe thead th {\n",
       "        text-align: right;\n",
       "    }\n",
       "</style>\n",
       "<table border=\"1\" class=\"dataframe\">\n",
       "  <thead>\n",
       "    <tr style=\"text-align: right;\">\n",
       "      <th></th>\n",
       "      <th>Trip_Distance_km</th>\n",
       "      <th>Passenger_Count</th>\n",
       "      <th>Base_Fare</th>\n",
       "      <th>Per_Km_Rate</th>\n",
       "      <th>Per_Minute_Rate</th>\n",
       "      <th>Trip_Duration_Minutes</th>\n",
       "    </tr>\n",
       "  </thead>\n",
       "  <tbody>\n",
       "    <tr>\n",
       "      <th>0</th>\n",
       "      <td>19.35</td>\n",
       "      <td>3.0</td>\n",
       "      <td>3.56</td>\n",
       "      <td>0.80</td>\n",
       "      <td>0.32</td>\n",
       "      <td>53.82</td>\n",
       "    </tr>\n",
       "    <tr>\n",
       "      <th>1</th>\n",
       "      <td>47.59</td>\n",
       "      <td>1.0</td>\n",
       "      <td>NaN</td>\n",
       "      <td>0.62</td>\n",
       "      <td>0.43</td>\n",
       "      <td>40.57</td>\n",
       "    </tr>\n",
       "    <tr>\n",
       "      <th>2</th>\n",
       "      <td>36.87</td>\n",
       "      <td>1.0</td>\n",
       "      <td>2.70</td>\n",
       "      <td>1.21</td>\n",
       "      <td>0.15</td>\n",
       "      <td>37.27</td>\n",
       "    </tr>\n",
       "    <tr>\n",
       "      <th>3</th>\n",
       "      <td>30.33</td>\n",
       "      <td>4.0</td>\n",
       "      <td>3.48</td>\n",
       "      <td>0.51</td>\n",
       "      <td>0.15</td>\n",
       "      <td>116.81</td>\n",
       "    </tr>\n",
       "    <tr>\n",
       "      <th>4</th>\n",
       "      <td>NaN</td>\n",
       "      <td>3.0</td>\n",
       "      <td>2.93</td>\n",
       "      <td>0.63</td>\n",
       "      <td>0.32</td>\n",
       "      <td>22.64</td>\n",
       "    </tr>\n",
       "  </tbody>\n",
       "</table>\n",
       "</div>"
      ],
      "text/plain": [
       "   Trip_Distance_km  Passenger_Count  Base_Fare  Per_Km_Rate  Per_Minute_Rate  \\\n",
       "0             19.35              3.0       3.56         0.80             0.32   \n",
       "1             47.59              1.0        NaN         0.62             0.43   \n",
       "2             36.87              1.0       2.70         1.21             0.15   \n",
       "3             30.33              4.0       3.48         0.51             0.15   \n",
       "4               NaN              3.0       2.93         0.63             0.32   \n",
       "\n",
       "   Trip_Duration_Minutes  \n",
       "0                  53.82  \n",
       "1                  40.57  \n",
       "2                  37.27  \n",
       "3                 116.81  \n",
       "4                  22.64  "
      ]
     },
     "execution_count": 3,
     "metadata": {},
     "output_type": "execute_result"
    }
   ],
   "source": [
    "X, df_numeric, df_boolean, df_categorical, df_target, y = split_features_target(df)\n",
    "df_numeric.head()"
   ]
  },
  {
   "cell_type": "markdown",
   "id": "9a03a1b3",
   "metadata": {},
   "source": [
    "### Removing outliers in target"
   ]
  },
  {
   "cell_type": "code",
   "execution_count": 4,
   "id": "80a2438a",
   "metadata": {},
   "outputs": [],
   "source": [
    "df_clipped_target = handle_outliers(df_target)"
   ]
  },
  {
   "cell_type": "markdown",
   "id": "f303d969",
   "metadata": {},
   "source": [
    "### Filling nulls with median or mean depending on value\n"
   ]
  },
  {
   "cell_type": "code",
   "execution_count": 5,
   "id": "dd3dbaa5",
   "metadata": {},
   "outputs": [
    {
     "name": "stdout",
     "output_type": "stream",
     "text": [
      "<class 'pandas.core.frame.DataFrame'>\n",
      "RangeIndex: 1000 entries, 0 to 999\n",
      "Data columns (total 1 columns):\n",
      " #   Column      Non-Null Count  Dtype  \n",
      "---  ------      --------------  -----  \n",
      " 0   Trip_Price  1000 non-null   float64\n",
      "dtypes: float64(1)\n",
      "memory usage: 7.9 KB\n"
     ]
    }
   ],
   "source": [
    "df_filled_target = fillna_mean_median(df_clipped_target)\n",
    "\n",
    "df_filled_numeric = fillna_mean_median(df_numeric)      \n",
    "df_filled_target.info()  "
   ]
  },
  {
   "cell_type": "markdown",
   "id": "74ca97b2",
   "metadata": {},
   "source": [
    "### Handle missing values and outliers in the numeric columns"
   ]
  },
  {
   "cell_type": "code",
   "execution_count": 6,
   "id": "1cbff0b2",
   "metadata": {},
   "outputs": [],
   "source": [
    "df_clipped_numeric = handle_outliers(df_filled_numeric)"
   ]
  },
  {
   "cell_type": "markdown",
   "id": "ab24f50c",
   "metadata": {},
   "source": [
    "### Handling missing values in categorical columns using mode"
   ]
  },
  {
   "cell_type": "code",
   "execution_count": 7,
   "id": "6f971f36",
   "metadata": {},
   "outputs": [],
   "source": [
    "df_categorical_mode = df_categorical.apply(lambda col:col.fillna(col.mode()[0]))"
   ]
  },
  {
   "cell_type": "markdown",
   "id": "0b9ee01c",
   "metadata": {},
   "source": [
    "### Dumme encoding. Creating dummy columns and values for categorical features"
   ]
  },
  {
   "cell_type": "code",
   "execution_count": 8,
   "id": "4b77c68a",
   "metadata": {},
   "outputs": [
    {
     "name": "stdout",
     "output_type": "stream",
     "text": [
      "<class 'pandas.core.frame.DataFrame'>\n",
      "RangeIndex: 1000 entries, 0 to 999\n",
      "Data columns (total 12 columns):\n",
      " #   Column                     Non-Null Count  Dtype\n",
      "---  ------                     --------------  -----\n",
      " 0   Time_of_Day_Afternoon      1000 non-null   bool \n",
      " 1   Time_of_Day_Evening        1000 non-null   bool \n",
      " 2   Time_of_Day_Morning        1000 non-null   bool \n",
      " 3   Time_of_Day_Night          1000 non-null   bool \n",
      " 4   Day_of_Week_Weekday        1000 non-null   bool \n",
      " 5   Day_of_Week_Weekend        1000 non-null   bool \n",
      " 6   Traffic_Conditions_High    1000 non-null   bool \n",
      " 7   Traffic_Conditions_Low     1000 non-null   bool \n",
      " 8   Traffic_Conditions_Medium  1000 non-null   bool \n",
      " 9   Weather_Clear              1000 non-null   bool \n",
      " 10  Weather_Rain               1000 non-null   bool \n",
      " 11  Weather_Snow               1000 non-null   bool \n",
      "dtypes: bool(12)\n",
      "memory usage: 11.8 KB\n"
     ]
    }
   ],
   "source": [
    "dummy_categoric_features = pd.get_dummies(df_categorical_mode)\n",
    "dummy_categoric_features.info()"
   ]
  },
  {
   "cell_type": "markdown",
   "id": "10cccd6b",
   "metadata": {},
   "source": [
    "### Merging processed features"
   ]
  },
  {
   "cell_type": "code",
   "execution_count": 21,
   "id": "02b4abd2",
   "metadata": {},
   "outputs": [
    {
     "data": {
      "text/html": [
       "<div>\n",
       "<style scoped>\n",
       "    .dataframe tbody tr th:only-of-type {\n",
       "        vertical-align: middle;\n",
       "    }\n",
       "\n",
       "    .dataframe tbody tr th {\n",
       "        vertical-align: top;\n",
       "    }\n",
       "\n",
       "    .dataframe thead th {\n",
       "        text-align: right;\n",
       "    }\n",
       "</style>\n",
       "<table border=\"1\" class=\"dataframe\">\n",
       "  <thead>\n",
       "    <tr style=\"text-align: right;\">\n",
       "      <th></th>\n",
       "      <th>count</th>\n",
       "      <th>mean</th>\n",
       "      <th>std</th>\n",
       "      <th>min</th>\n",
       "      <th>25%</th>\n",
       "      <th>50%</th>\n",
       "      <th>75%</th>\n",
       "      <th>max</th>\n",
       "    </tr>\n",
       "  </thead>\n",
       "  <tbody>\n",
       "    <tr>\n",
       "      <th>Trip_Distance_km</th>\n",
       "      <td>1000.0</td>\n",
       "      <td>26.153327</td>\n",
       "      <td>15.521566</td>\n",
       "      <td>1.23</td>\n",
       "      <td>13.1075</td>\n",
       "      <td>26.995000</td>\n",
       "      <td>37.7825</td>\n",
       "      <td>74.795</td>\n",
       "    </tr>\n",
       "    <tr>\n",
       "      <th>Passenger_Count</th>\n",
       "      <td>1000.0</td>\n",
       "      <td>2.453000</td>\n",
       "      <td>1.079331</td>\n",
       "      <td>1.00</td>\n",
       "      <td>2.0000</td>\n",
       "      <td>2.000000</td>\n",
       "      <td>3.0000</td>\n",
       "      <td>4.000</td>\n",
       "    </tr>\n",
       "    <tr>\n",
       "      <th>Base_Fare</th>\n",
       "      <td>1000.0</td>\n",
       "      <td>3.502989</td>\n",
       "      <td>0.848107</td>\n",
       "      <td>2.01</td>\n",
       "      <td>2.7700</td>\n",
       "      <td>3.502989</td>\n",
       "      <td>4.2025</td>\n",
       "      <td>5.000</td>\n",
       "    </tr>\n",
       "    <tr>\n",
       "      <th>Per_Km_Rate</th>\n",
       "      <td>1000.0</td>\n",
       "      <td>1.233316</td>\n",
       "      <td>0.418922</td>\n",
       "      <td>0.50</td>\n",
       "      <td>0.8700</td>\n",
       "      <td>1.233316</td>\n",
       "      <td>1.5800</td>\n",
       "      <td>2.000</td>\n",
       "    </tr>\n",
       "    <tr>\n",
       "      <th>Per_Minute_Rate</th>\n",
       "      <td>1000.0</td>\n",
       "      <td>0.292916</td>\n",
       "      <td>0.112662</td>\n",
       "      <td>0.10</td>\n",
       "      <td>0.1975</td>\n",
       "      <td>0.292916</td>\n",
       "      <td>0.3825</td>\n",
       "      <td>0.500</td>\n",
       "    </tr>\n",
       "    <tr>\n",
       "      <th>Trip_Duration_Minutes</th>\n",
       "      <td>1000.0</td>\n",
       "      <td>62.118116</td>\n",
       "      <td>31.339413</td>\n",
       "      <td>5.01</td>\n",
       "      <td>37.1075</td>\n",
       "      <td>62.118116</td>\n",
       "      <td>87.7750</td>\n",
       "      <td>119.840</td>\n",
       "    </tr>\n",
       "  </tbody>\n",
       "</table>\n",
       "</div>"
      ],
      "text/plain": [
       "                        count       mean        std   min      25%        50%  \\\n",
       "Trip_Distance_km       1000.0  26.153327  15.521566  1.23  13.1075  26.995000   \n",
       "Passenger_Count        1000.0   2.453000   1.079331  1.00   2.0000   2.000000   \n",
       "Base_Fare              1000.0   3.502989   0.848107  2.01   2.7700   3.502989   \n",
       "Per_Km_Rate            1000.0   1.233316   0.418922  0.50   0.8700   1.233316   \n",
       "Per_Minute_Rate        1000.0   0.292916   0.112662  0.10   0.1975   0.292916   \n",
       "Trip_Duration_Minutes  1000.0  62.118116  31.339413  5.01  37.1075  62.118116   \n",
       "\n",
       "                           75%      max  \n",
       "Trip_Distance_km       37.7825   74.795  \n",
       "Passenger_Count         3.0000    4.000  \n",
       "Base_Fare               4.2025    5.000  \n",
       "Per_Km_Rate             1.5800    2.000  \n",
       "Per_Minute_Rate         0.3825    0.500  \n",
       "Trip_Duration_Minutes  87.7750  119.840  "
      ]
     },
     "execution_count": 21,
     "metadata": {},
     "output_type": "execute_result"
    }
   ],
   "source": [
    "df_clean = pd.concat([df_clipped_numeric, dummy_categoric_features], axis=1)\n",
    "\n",
    "df_clean.describe().T"
   ]
  },
  {
   "cell_type": "markdown",
   "id": "ef8d75a6",
   "metadata": {},
   "source": [
    "#### temorary join target to clean features"
   ]
  },
  {
   "cell_type": "code",
   "execution_count": 10,
   "id": "7ccd9469",
   "metadata": {},
   "outputs": [],
   "source": [
    "df_with_target = pd.concat([df_clean, df_filled_target], axis=1)"
   ]
  },
  {
   "cell_type": "markdown",
   "id": "cea6f560",
   "metadata": {},
   "source": [
    "### correlations with cleaned data"
   ]
  },
  {
   "cell_type": "code",
   "execution_count": 11,
   "id": "642bceb0",
   "metadata": {},
   "outputs": [
    {
     "name": "stdout",
     "output_type": "stream",
     "text": [
      "                           Trip_Price\n",
      "Trip_Price                   1.000000\n",
      "Trip_Distance_km             0.717884\n",
      "Per_Km_Rate                  0.381859\n",
      "Trip_Duration_Minutes        0.318678\n",
      "Per_Minute_Rate              0.226293\n",
      "Traffic_Conditions_High      0.059150\n",
      "Base_Fare                    0.046055\n",
      "Weather_Rain                 0.026548\n",
      "Passenger_Count              0.020573\n",
      "Day_of_Week_Weekday          0.020459\n",
      "Weather_Snow                 0.019309\n",
      "Time_of_Day_Evening          0.005622\n",
      "Time_of_Day_Afternoon        0.003808\n",
      "Time_of_Day_Morning         -0.004737\n",
      "Time_of_Day_Night           -0.006912\n",
      "Traffic_Conditions_Low      -0.007922\n",
      "Day_of_Week_Weekend         -0.020459\n",
      "Weather_Clear               -0.034544\n",
      "Traffic_Conditions_Medium   -0.039092\n"
     ]
    }
   ],
   "source": [
    "cleaned_correlations = df_with_target.corr(numeric_only=True)[[\"Trip_Price\"]].sort_values(\n",
    "    by=\"Trip_Price\", ascending=False\n",
    ")\n",
    "print(cleaned_correlations)"
   ]
  },
  {
   "cell_type": "markdown",
   "id": "b43670a8",
   "metadata": {},
   "source": [
    "### dropping low correlating feats"
   ]
  },
  {
   "cell_type": "code",
   "execution_count": 20,
   "id": "565da6dc",
   "metadata": {},
   "outputs": [
    {
     "data": {
      "text/html": [
       "<div>\n",
       "<style scoped>\n",
       "    .dataframe tbody tr th:only-of-type {\n",
       "        vertical-align: middle;\n",
       "    }\n",
       "\n",
       "    .dataframe tbody tr th {\n",
       "        vertical-align: top;\n",
       "    }\n",
       "\n",
       "    .dataframe thead th {\n",
       "        text-align: right;\n",
       "    }\n",
       "</style>\n",
       "<table border=\"1\" class=\"dataframe\">\n",
       "  <thead>\n",
       "    <tr style=\"text-align: right;\">\n",
       "      <th></th>\n",
       "      <th>count</th>\n",
       "      <th>mean</th>\n",
       "      <th>std</th>\n",
       "      <th>min</th>\n",
       "      <th>25%</th>\n",
       "      <th>50%</th>\n",
       "      <th>75%</th>\n",
       "      <th>max</th>\n",
       "    </tr>\n",
       "  </thead>\n",
       "  <tbody>\n",
       "    <tr>\n",
       "      <th>Trip_Distance_km</th>\n",
       "      <td>1000.0</td>\n",
       "      <td>26.153327</td>\n",
       "      <td>15.521566</td>\n",
       "      <td>1.2300</td>\n",
       "      <td>13.10750</td>\n",
       "      <td>26.995000</td>\n",
       "      <td>37.78250</td>\n",
       "      <td>74.7950</td>\n",
       "    </tr>\n",
       "    <tr>\n",
       "      <th>Passenger_Count</th>\n",
       "      <td>1000.0</td>\n",
       "      <td>2.453000</td>\n",
       "      <td>1.079331</td>\n",
       "      <td>1.0000</td>\n",
       "      <td>2.00000</td>\n",
       "      <td>2.000000</td>\n",
       "      <td>3.00000</td>\n",
       "      <td>4.0000</td>\n",
       "    </tr>\n",
       "    <tr>\n",
       "      <th>Base_Fare</th>\n",
       "      <td>1000.0</td>\n",
       "      <td>3.502989</td>\n",
       "      <td>0.848107</td>\n",
       "      <td>2.0100</td>\n",
       "      <td>2.77000</td>\n",
       "      <td>3.502989</td>\n",
       "      <td>4.20250</td>\n",
       "      <td>5.0000</td>\n",
       "    </tr>\n",
       "    <tr>\n",
       "      <th>Per_Km_Rate</th>\n",
       "      <td>1000.0</td>\n",
       "      <td>1.233316</td>\n",
       "      <td>0.418922</td>\n",
       "      <td>0.5000</td>\n",
       "      <td>0.87000</td>\n",
       "      <td>1.233316</td>\n",
       "      <td>1.58000</td>\n",
       "      <td>2.0000</td>\n",
       "    </tr>\n",
       "    <tr>\n",
       "      <th>Per_Minute_Rate</th>\n",
       "      <td>1000.0</td>\n",
       "      <td>0.292916</td>\n",
       "      <td>0.112662</td>\n",
       "      <td>0.1000</td>\n",
       "      <td>0.19750</td>\n",
       "      <td>0.292916</td>\n",
       "      <td>0.38250</td>\n",
       "      <td>0.5000</td>\n",
       "    </tr>\n",
       "    <tr>\n",
       "      <th>Trip_Duration_Minutes</th>\n",
       "      <td>1000.0</td>\n",
       "      <td>62.118116</td>\n",
       "      <td>31.339413</td>\n",
       "      <td>5.0100</td>\n",
       "      <td>37.10750</td>\n",
       "      <td>62.118116</td>\n",
       "      <td>87.77500</td>\n",
       "      <td>119.8400</td>\n",
       "    </tr>\n",
       "    <tr>\n",
       "      <th>Trip_Price</th>\n",
       "      <td>1000.0</td>\n",
       "      <td>53.616300</td>\n",
       "      <td>25.121194</td>\n",
       "      <td>6.1269</td>\n",
       "      <td>34.57885</td>\n",
       "      <td>52.617000</td>\n",
       "      <td>67.47665</td>\n",
       "      <td>122.1344</td>\n",
       "    </tr>\n",
       "  </tbody>\n",
       "</table>\n",
       "</div>"
      ],
      "text/plain": [
       "                        count       mean        std     min       25%  \\\n",
       "Trip_Distance_km       1000.0  26.153327  15.521566  1.2300  13.10750   \n",
       "Passenger_Count        1000.0   2.453000   1.079331  1.0000   2.00000   \n",
       "Base_Fare              1000.0   3.502989   0.848107  2.0100   2.77000   \n",
       "Per_Km_Rate            1000.0   1.233316   0.418922  0.5000   0.87000   \n",
       "Per_Minute_Rate        1000.0   0.292916   0.112662  0.1000   0.19750   \n",
       "Trip_Duration_Minutes  1000.0  62.118116  31.339413  5.0100  37.10750   \n",
       "Trip_Price             1000.0  53.616300  25.121194  6.1269  34.57885   \n",
       "\n",
       "                             50%       75%       max  \n",
       "Trip_Distance_km       26.995000  37.78250   74.7950  \n",
       "Passenger_Count         2.000000   3.00000    4.0000  \n",
       "Base_Fare               3.502989   4.20250    5.0000  \n",
       "Per_Km_Rate             1.233316   1.58000    2.0000  \n",
       "Per_Minute_Rate         0.292916   0.38250    0.5000  \n",
       "Trip_Duration_Minutes  62.118116  87.77500  119.8400  \n",
       "Trip_Price             52.617000  67.47665  122.1344  "
      ]
     },
     "execution_count": 20,
     "metadata": {},
     "output_type": "execute_result"
    }
   ],
   "source": [
    "df_cleaned = df_with_target.drop([\"Time_of_Day_Night\",\n",
    "                           \"Time_of_Day_Evening\",\n",
    "                           \"Time_of_Day_Morning\",\n",
    "                           \"Day_of_Week_Weekend\",\n",
    "                           \"Traffic_Conditions_Low\",\n",
    "                           \"Weather_Clear\",\n",
    "                           \"Traffic_Conditions_Medium\"],\n",
    "                           axis=\"columns\"\n",
    "                           )\n",
    "\n",
    "df_cleaned.describe().T"
   ]
  },
  {
   "cell_type": "markdown",
   "id": "93d7a16a",
   "metadata": {},
   "source": [
    "# Exporting data to csv file"
   ]
  },
  {
   "cell_type": "code",
   "execution_count": 13,
   "id": "9d50010b",
   "metadata": {},
   "outputs": [],
   "source": [
    "export_path = \"../src/taxipred/data/cleaned_data.csv\"\n",
    "\n",
    "df_cleaned.to_csv(export_path, index=False)"
   ]
  }
 ],
 "metadata": {
  "kernelspec": {
   "display_name": "taxi-prediction-fullstack-stefan-lundberg-opa24 (3.13.7)",
   "language": "python",
   "name": "python3"
  },
  "language_info": {
   "codemirror_mode": {
    "name": "ipython",
    "version": 3
   },
   "file_extension": ".py",
   "mimetype": "text/x-python",
   "name": "python",
   "nbconvert_exporter": "python",
   "pygments_lexer": "ipython3",
   "version": "3.13.7"
  }
 },
 "nbformat": 4,
 "nbformat_minor": 5
}
