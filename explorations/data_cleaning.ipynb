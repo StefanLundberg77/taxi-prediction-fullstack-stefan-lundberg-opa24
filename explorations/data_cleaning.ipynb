{
 "cells": [
  {
   "cell_type": "markdown",
   "id": "052aa8a7",
   "metadata": {},
   "source": [
    "# Cleaning data"
   ]
  },
  {
   "cell_type": "markdown",
   "id": "29aa83c6",
   "metadata": {},
   "source": [
    "### load and import"
   ]
  },
  {
   "cell_type": "code",
   "execution_count": 1,
   "id": "f60e5763",
   "metadata": {},
   "outputs": [],
   "source": [
    "import numpy as np\n",
    "import pandas as pd\n",
    "import seaborn as sns\n",
    "import matplotlib.pyplot as plt\n",
    "from functions import split_features_target, fillna_mean_median, handle_outliers\n",
    "from taxipred.utils.constants import get_taxi_data\n",
    "df = get_taxi_data()"
   ]
  },
  {
   "cell_type": "markdown",
   "id": "961f992e",
   "metadata": {},
   "source": [
    "### Sort data into target and numeric, categoric feats"
   ]
  },
  {
   "cell_type": "code",
   "execution_count": 2,
   "id": "1b1db0bf",
   "metadata": {},
   "outputs": [
    {
     "data": {
      "text/html": [
       "<div>\n",
       "<style scoped>\n",
       "    .dataframe tbody tr th:only-of-type {\n",
       "        vertical-align: middle;\n",
       "    }\n",
       "\n",
       "    .dataframe tbody tr th {\n",
       "        vertical-align: top;\n",
       "    }\n",
       "\n",
       "    .dataframe thead th {\n",
       "        text-align: right;\n",
       "    }\n",
       "</style>\n",
       "<table border=\"1\" class=\"dataframe\">\n",
       "  <thead>\n",
       "    <tr style=\"text-align: right;\">\n",
       "      <th></th>\n",
       "      <th>Trip_Distance_km</th>\n",
       "      <th>Passenger_Count</th>\n",
       "      <th>Base_Fare</th>\n",
       "      <th>Per_Km_Rate</th>\n",
       "      <th>Per_Minute_Rate</th>\n",
       "      <th>Trip_Duration_Minutes</th>\n",
       "    </tr>\n",
       "  </thead>\n",
       "  <tbody>\n",
       "    <tr>\n",
       "      <th>0</th>\n",
       "      <td>19.35</td>\n",
       "      <td>3.0</td>\n",
       "      <td>3.56</td>\n",
       "      <td>0.80</td>\n",
       "      <td>0.32</td>\n",
       "      <td>53.82</td>\n",
       "    </tr>\n",
       "    <tr>\n",
       "      <th>1</th>\n",
       "      <td>47.59</td>\n",
       "      <td>1.0</td>\n",
       "      <td>NaN</td>\n",
       "      <td>0.62</td>\n",
       "      <td>0.43</td>\n",
       "      <td>40.57</td>\n",
       "    </tr>\n",
       "    <tr>\n",
       "      <th>2</th>\n",
       "      <td>36.87</td>\n",
       "      <td>1.0</td>\n",
       "      <td>2.70</td>\n",
       "      <td>1.21</td>\n",
       "      <td>0.15</td>\n",
       "      <td>37.27</td>\n",
       "    </tr>\n",
       "    <tr>\n",
       "      <th>3</th>\n",
       "      <td>30.33</td>\n",
       "      <td>4.0</td>\n",
       "      <td>3.48</td>\n",
       "      <td>0.51</td>\n",
       "      <td>0.15</td>\n",
       "      <td>116.81</td>\n",
       "    </tr>\n",
       "    <tr>\n",
       "      <th>4</th>\n",
       "      <td>NaN</td>\n",
       "      <td>3.0</td>\n",
       "      <td>2.93</td>\n",
       "      <td>0.63</td>\n",
       "      <td>0.32</td>\n",
       "      <td>22.64</td>\n",
       "    </tr>\n",
       "  </tbody>\n",
       "</table>\n",
       "</div>"
      ],
      "text/plain": [
       "   Trip_Distance_km  Passenger_Count  Base_Fare  Per_Km_Rate  Per_Minute_Rate  \\\n",
       "0             19.35              3.0       3.56         0.80             0.32   \n",
       "1             47.59              1.0        NaN         0.62             0.43   \n",
       "2             36.87              1.0       2.70         1.21             0.15   \n",
       "3             30.33              4.0       3.48         0.51             0.15   \n",
       "4               NaN              3.0       2.93         0.63             0.32   \n",
       "\n",
       "   Trip_Duration_Minutes  \n",
       "0                  53.82  \n",
       "1                  40.57  \n",
       "2                  37.27  \n",
       "3                 116.81  \n",
       "4                  22.64  "
      ]
     },
     "execution_count": 2,
     "metadata": {},
     "output_type": "execute_result"
    }
   ],
   "source": [
    "df_numeric, df_categorical, df_target = split_features_target(df)\n",
    "df_numeric.head()"
   ]
  },
  {
   "cell_type": "markdown",
   "id": "f303d969",
   "metadata": {},
   "source": [
    "### Filling nulls with median or mean depending on value\n"
   ]
  },
  {
   "cell_type": "code",
   "execution_count": 3,
   "id": "dd3dbaa5",
   "metadata": {},
   "outputs": [
    {
     "name": "stdout",
     "output_type": "stream",
     "text": [
      "<class 'pandas.core.frame.DataFrame'>\n",
      "RangeIndex: 1000 entries, 0 to 999\n",
      "Data columns (total 6 columns):\n",
      " #   Column                 Non-Null Count  Dtype  \n",
      "---  ------                 --------------  -----  \n",
      " 0   Trip_Distance_km       1000 non-null   float64\n",
      " 1   Passenger_Count        1000 non-null   float64\n",
      " 2   Base_Fare              1000 non-null   float64\n",
      " 3   Per_Km_Rate            1000 non-null   float64\n",
      " 4   Per_Minute_Rate        1000 non-null   float64\n",
      " 5   Trip_Duration_Minutes  1000 non-null   float64\n",
      "dtypes: float64(6)\n",
      "memory usage: 47.0 KB\n"
     ]
    }
   ],
   "source": [
    "df_cleaned_numeric = fillna_mean_median(df_numeric)     \n",
    "df_cleaned_numeric.info()     "
   ]
  },
  {
   "cell_type": "markdown",
   "id": "74ca97b2",
   "metadata": {},
   "source": [
    "### Handle missing values and outliers in the numeric columns"
   ]
  },
  {
   "cell_type": "code",
   "execution_count": 4,
   "id": "1cbff0b2",
   "metadata": {},
   "outputs": [
    {
     "data": {
      "text/html": [
       "<div>\n",
       "<style scoped>\n",
       "    .dataframe tbody tr th:only-of-type {\n",
       "        vertical-align: middle;\n",
       "    }\n",
       "\n",
       "    .dataframe tbody tr th {\n",
       "        vertical-align: top;\n",
       "    }\n",
       "\n",
       "    .dataframe thead th {\n",
       "        text-align: right;\n",
       "    }\n",
       "</style>\n",
       "<table border=\"1\" class=\"dataframe\">\n",
       "  <thead>\n",
       "    <tr style=\"text-align: right;\">\n",
       "      <th></th>\n",
       "      <th>count</th>\n",
       "      <th>mean</th>\n",
       "      <th>std</th>\n",
       "      <th>min</th>\n",
       "      <th>25%</th>\n",
       "      <th>50%</th>\n",
       "      <th>75%</th>\n",
       "      <th>max</th>\n",
       "    </tr>\n",
       "  </thead>\n",
       "  <tbody>\n",
       "    <tr>\n",
       "      <th>Trip_Distance_km</th>\n",
       "      <td>1000.0</td>\n",
       "      <td>27.070547</td>\n",
       "      <td>19.400775</td>\n",
       "      <td>1.23</td>\n",
       "      <td>13.1075</td>\n",
       "      <td>26.995000</td>\n",
       "      <td>37.7825</td>\n",
       "      <td>146.067047</td>\n",
       "    </tr>\n",
       "    <tr>\n",
       "      <th>Passenger_Count</th>\n",
       "      <td>1000.0</td>\n",
       "      <td>2.453000</td>\n",
       "      <td>1.079331</td>\n",
       "      <td>1.00</td>\n",
       "      <td>2.0000</td>\n",
       "      <td>2.000000</td>\n",
       "      <td>3.0000</td>\n",
       "      <td>4.000000</td>\n",
       "    </tr>\n",
       "    <tr>\n",
       "      <th>Base_Fare</th>\n",
       "      <td>1000.0</td>\n",
       "      <td>3.502989</td>\n",
       "      <td>0.848107</td>\n",
       "      <td>2.01</td>\n",
       "      <td>2.7700</td>\n",
       "      <td>3.502989</td>\n",
       "      <td>4.2025</td>\n",
       "      <td>5.000000</td>\n",
       "    </tr>\n",
       "    <tr>\n",
       "      <th>Per_Km_Rate</th>\n",
       "      <td>1000.0</td>\n",
       "      <td>1.233316</td>\n",
       "      <td>0.418922</td>\n",
       "      <td>0.50</td>\n",
       "      <td>0.8700</td>\n",
       "      <td>1.233316</td>\n",
       "      <td>1.5800</td>\n",
       "      <td>2.000000</td>\n",
       "    </tr>\n",
       "    <tr>\n",
       "      <th>Per_Minute_Rate</th>\n",
       "      <td>1000.0</td>\n",
       "      <td>0.292916</td>\n",
       "      <td>0.112662</td>\n",
       "      <td>0.10</td>\n",
       "      <td>0.1975</td>\n",
       "      <td>0.292916</td>\n",
       "      <td>0.3825</td>\n",
       "      <td>0.500000</td>\n",
       "    </tr>\n",
       "    <tr>\n",
       "      <th>Trip_Duration_Minutes</th>\n",
       "      <td>1000.0</td>\n",
       "      <td>62.118116</td>\n",
       "      <td>31.339413</td>\n",
       "      <td>5.01</td>\n",
       "      <td>37.1075</td>\n",
       "      <td>62.118116</td>\n",
       "      <td>87.7750</td>\n",
       "      <td>119.840000</td>\n",
       "    </tr>\n",
       "  </tbody>\n",
       "</table>\n",
       "</div>"
      ],
      "text/plain": [
       "                        count       mean        std   min      25%        50%  \\\n",
       "Trip_Distance_km       1000.0  27.070547  19.400775  1.23  13.1075  26.995000   \n",
       "Passenger_Count        1000.0   2.453000   1.079331  1.00   2.0000   2.000000   \n",
       "Base_Fare              1000.0   3.502989   0.848107  2.01   2.7700   3.502989   \n",
       "Per_Km_Rate            1000.0   1.233316   0.418922  0.50   0.8700   1.233316   \n",
       "Per_Minute_Rate        1000.0   0.292916   0.112662  0.10   0.1975   0.292916   \n",
       "Trip_Duration_Minutes  1000.0  62.118116  31.339413  5.01  37.1075  62.118116   \n",
       "\n",
       "                           75%         max  \n",
       "Trip_Distance_km       37.7825  146.067047  \n",
       "Passenger_Count         3.0000    4.000000  \n",
       "Base_Fare               4.2025    5.000000  \n",
       "Per_Km_Rate             1.5800    2.000000  \n",
       "Per_Minute_Rate         0.3825    0.500000  \n",
       "Trip_Duration_Minutes  87.7750  119.840000  "
      ]
     },
     "execution_count": 4,
     "metadata": {},
     "output_type": "execute_result"
    }
   ],
   "source": [
    "df_cleaned_numeric_outliers = handle_outliers(df_cleaned_numeric)\n",
    "df_cleaned_numeric_outliers.describe().T"
   ]
  },
  {
   "cell_type": "code",
   "execution_count": null,
   "id": "a285c7ec",
   "metadata": {},
   "outputs": [],
   "source": []
  }
 ],
 "metadata": {
  "kernelspec": {
   "display_name": "taxi-prediction-fullstack-stefan-lundberg-opa24 (3.13.7)",
   "language": "python",
   "name": "python3"
  },
  "language_info": {
   "codemirror_mode": {
    "name": "ipython",
    "version": 3
   },
   "file_extension": ".py",
   "mimetype": "text/x-python",
   "name": "python",
   "nbconvert_exporter": "python",
   "pygments_lexer": "ipython3",
   "version": "3.13.7"
  }
 },
 "nbformat": 4,
 "nbformat_minor": 5
}
