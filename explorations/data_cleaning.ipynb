{
 "cells": [
  {
   "cell_type": "markdown",
   "id": "052aa8a7",
   "metadata": {},
   "source": [
    "# Cleaning data"
   ]
  },
  {
   "cell_type": "markdown",
   "id": "29aa83c6",
   "metadata": {},
   "source": [
    "### load and import"
   ]
  },
  {
   "cell_type": "code",
   "execution_count": 1,
   "id": "f60e5763",
   "metadata": {},
   "outputs": [],
   "source": [
    "import numpy as np\n",
    "import pandas as pd\n",
    "import seaborn as sns\n",
    "import matplotlib.pyplot as plt\n",
    "\n",
    "from functions import split_features_target\n",
    "from taxipred.utils.constants import get_taxi_data\n",
    "df = get_taxi_data()"
   ]
  },
  {
   "cell_type": "markdown",
   "id": "961f992e",
   "metadata": {},
   "source": [
    "### Sort data into target and numeric, categoric feats"
   ]
  },
  {
   "cell_type": "code",
   "execution_count": 2,
   "id": "1b1db0bf",
   "metadata": {},
   "outputs": [
    {
     "data": {
      "text/html": [
       "<div>\n",
       "<style scoped>\n",
       "    .dataframe tbody tr th:only-of-type {\n",
       "        vertical-align: middle;\n",
       "    }\n",
       "\n",
       "    .dataframe tbody tr th {\n",
       "        vertical-align: top;\n",
       "    }\n",
       "\n",
       "    .dataframe thead th {\n",
       "        text-align: right;\n",
       "    }\n",
       "</style>\n",
       "<table border=\"1\" class=\"dataframe\">\n",
       "  <thead>\n",
       "    <tr style=\"text-align: right;\">\n",
       "      <th></th>\n",
       "      <th>Trip_Distance_km</th>\n",
       "      <th>Passenger_Count</th>\n",
       "      <th>Base_Fare</th>\n",
       "      <th>Per_Km_Rate</th>\n",
       "      <th>Per_Minute_Rate</th>\n",
       "      <th>Trip_Duration_Minutes</th>\n",
       "    </tr>\n",
       "  </thead>\n",
       "  <tbody>\n",
       "    <tr>\n",
       "      <th>0</th>\n",
       "      <td>19.35</td>\n",
       "      <td>3.0</td>\n",
       "      <td>3.56</td>\n",
       "      <td>0.80</td>\n",
       "      <td>0.32</td>\n",
       "      <td>53.82</td>\n",
       "    </tr>\n",
       "    <tr>\n",
       "      <th>1</th>\n",
       "      <td>47.59</td>\n",
       "      <td>1.0</td>\n",
       "      <td>NaN</td>\n",
       "      <td>0.62</td>\n",
       "      <td>0.43</td>\n",
       "      <td>40.57</td>\n",
       "    </tr>\n",
       "    <tr>\n",
       "      <th>2</th>\n",
       "      <td>36.87</td>\n",
       "      <td>1.0</td>\n",
       "      <td>2.70</td>\n",
       "      <td>1.21</td>\n",
       "      <td>0.15</td>\n",
       "      <td>37.27</td>\n",
       "    </tr>\n",
       "    <tr>\n",
       "      <th>3</th>\n",
       "      <td>30.33</td>\n",
       "      <td>4.0</td>\n",
       "      <td>3.48</td>\n",
       "      <td>0.51</td>\n",
       "      <td>0.15</td>\n",
       "      <td>116.81</td>\n",
       "    </tr>\n",
       "    <tr>\n",
       "      <th>4</th>\n",
       "      <td>NaN</td>\n",
       "      <td>3.0</td>\n",
       "      <td>2.93</td>\n",
       "      <td>0.63</td>\n",
       "      <td>0.32</td>\n",
       "      <td>22.64</td>\n",
       "    </tr>\n",
       "  </tbody>\n",
       "</table>\n",
       "</div>"
      ],
      "text/plain": [
       "   Trip_Distance_km  Passenger_Count  Base_Fare  Per_Km_Rate  Per_Minute_Rate  \\\n",
       "0             19.35              3.0       3.56         0.80             0.32   \n",
       "1             47.59              1.0        NaN         0.62             0.43   \n",
       "2             36.87              1.0       2.70         1.21             0.15   \n",
       "3             30.33              4.0       3.48         0.51             0.15   \n",
       "4               NaN              3.0       2.93         0.63             0.32   \n",
       "\n",
       "   Trip_Duration_Minutes  \n",
       "0                  53.82  \n",
       "1                  40.57  \n",
       "2                  37.27  \n",
       "3                 116.81  \n",
       "4                  22.64  "
      ]
     },
     "execution_count": 2,
     "metadata": {},
     "output_type": "execute_result"
    }
   ],
   "source": [
    "numeric, categorical, target = split_features_target(df)\n",
    "numeric.head()"
   ]
  },
  {
   "cell_type": "markdown",
   "id": "74ca97b2",
   "metadata": {},
   "source": [
    "### Handle missing values and outliers in the numeric columns"
   ]
  },
  {
   "cell_type": "code",
   "execution_count": null,
   "id": "dd3dbaa5",
   "metadata": {},
   "outputs": [],
   "source": [
    "          "
   ]
  },
  {
   "cell_type": "code",
   "execution_count": null,
   "id": "1cbff0b2",
   "metadata": {},
   "outputs": [],
   "source": []
  }
 ],
 "metadata": {
  "kernelspec": {
   "display_name": "taxi-prediction-fullstack-stefan-lundberg-opa24 (3.13.7)",
   "language": "python",
   "name": "python3"
  },
  "language_info": {
   "codemirror_mode": {
    "name": "ipython",
    "version": 3
   },
   "file_extension": ".py",
   "mimetype": "text/x-python",
   "name": "python",
   "nbconvert_exporter": "python",
   "pygments_lexer": "ipython3",
   "version": "3.13.7"
  }
 },
 "nbformat": 4,
 "nbformat_minor": 5
}
