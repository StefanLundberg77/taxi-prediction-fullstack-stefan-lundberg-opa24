{
 "cells": [
  {
   "cell_type": "markdown",
   "id": "b749ae85",
   "metadata": {},
   "source": [
    "# Cleaning data for rows with missing Trip_price"
   ]
  },
  {
   "cell_type": "code",
   "execution_count": 62,
   "id": "66570d8d",
   "metadata": {},
   "outputs": [],
   "source": [
    "import pandas as pd\n",
    "from Cleaning_functions import split_features_target, fillna_mean_median, handle_outliers\n",
    "from taxipred.utils.constants import get_taxi_data\n",
    "df = get_taxi_data()"
   ]
  },
  {
   "cell_type": "markdown",
   "id": "90213aa8",
   "metadata": {},
   "source": [
    "### create dataframe with rows where NaN in trip_price for prediction model input"
   ]
  },
  {
   "cell_type": "code",
   "execution_count": 63,
   "id": "ee51beed",
   "metadata": {},
   "outputs": [
    {
     "data": {
      "text/html": [
       "<div>\n",
       "<style scoped>\n",
       "    .dataframe tbody tr th:only-of-type {\n",
       "        vertical-align: middle;\n",
       "    }\n",
       "\n",
       "    .dataframe tbody tr th {\n",
       "        vertical-align: top;\n",
       "    }\n",
       "\n",
       "    .dataframe thead th {\n",
       "        text-align: right;\n",
       "    }\n",
       "</style>\n",
       "<table border=\"1\" class=\"dataframe\">\n",
       "  <thead>\n",
       "    <tr style=\"text-align: right;\">\n",
       "      <th></th>\n",
       "      <th>Trip_Distance_km</th>\n",
       "      <th>Time_of_Day</th>\n",
       "      <th>Day_of_Week</th>\n",
       "      <th>Passenger_Count</th>\n",
       "      <th>Traffic_Conditions</th>\n",
       "      <th>Weather</th>\n",
       "      <th>Base_Fare</th>\n",
       "      <th>Per_Km_Rate</th>\n",
       "      <th>Per_Minute_Rate</th>\n",
       "      <th>Trip_Duration_Minutes</th>\n",
       "      <th>Trip_Price</th>\n",
       "    </tr>\n",
       "  </thead>\n",
       "  <tbody>\n",
       "    <tr>\n",
       "      <th>1</th>\n",
       "      <td>47.59</td>\n",
       "      <td>Afternoon</td>\n",
       "      <td>Weekday</td>\n",
       "      <td>1.0</td>\n",
       "      <td>High</td>\n",
       "      <td>Clear</td>\n",
       "      <td>NaN</td>\n",
       "      <td>0.62</td>\n",
       "      <td>0.43</td>\n",
       "      <td>40.57</td>\n",
       "      <td>NaN</td>\n",
       "    </tr>\n",
       "    <tr>\n",
       "      <th>8</th>\n",
       "      <td>30.45</td>\n",
       "      <td>Morning</td>\n",
       "      <td>Weekday</td>\n",
       "      <td>3.0</td>\n",
       "      <td>High</td>\n",
       "      <td>Clear</td>\n",
       "      <td>2.77</td>\n",
       "      <td>1.78</td>\n",
       "      <td>0.34</td>\n",
       "      <td>110.33</td>\n",
       "      <td>NaN</td>\n",
       "    </tr>\n",
       "    <tr>\n",
       "      <th>11</th>\n",
       "      <td>48.53</td>\n",
       "      <td>Night</td>\n",
       "      <td>Weekday</td>\n",
       "      <td>3.0</td>\n",
       "      <td>Low</td>\n",
       "      <td>Clear</td>\n",
       "      <td>4.78</td>\n",
       "      <td>NaN</td>\n",
       "      <td>0.50</td>\n",
       "      <td>79.94</td>\n",
       "      <td>NaN</td>\n",
       "    </tr>\n",
       "    <tr>\n",
       "      <th>32</th>\n",
       "      <td>4.19</td>\n",
       "      <td>Morning</td>\n",
       "      <td>Weekday</td>\n",
       "      <td>1.0</td>\n",
       "      <td>Low</td>\n",
       "      <td>Clear</td>\n",
       "      <td>4.07</td>\n",
       "      <td>1.89</td>\n",
       "      <td>0.19</td>\n",
       "      <td>69.06</td>\n",
       "      <td>NaN</td>\n",
       "    </tr>\n",
       "    <tr>\n",
       "      <th>94</th>\n",
       "      <td>38.78</td>\n",
       "      <td>Morning</td>\n",
       "      <td>Weekday</td>\n",
       "      <td>3.0</td>\n",
       "      <td>Medium</td>\n",
       "      <td>Clear</td>\n",
       "      <td>3.08</td>\n",
       "      <td>1.62</td>\n",
       "      <td>0.15</td>\n",
       "      <td>90.14</td>\n",
       "      <td>NaN</td>\n",
       "    </tr>\n",
       "  </tbody>\n",
       "</table>\n",
       "</div>"
      ],
      "text/plain": [
       "    Trip_Distance_km Time_of_Day Day_of_Week  Passenger_Count  \\\n",
       "1              47.59   Afternoon     Weekday              1.0   \n",
       "8              30.45     Morning     Weekday              3.0   \n",
       "11             48.53       Night     Weekday              3.0   \n",
       "32              4.19     Morning     Weekday              1.0   \n",
       "94             38.78     Morning     Weekday              3.0   \n",
       "\n",
       "   Traffic_Conditions Weather  Base_Fare  Per_Km_Rate  Per_Minute_Rate  \\\n",
       "1                High   Clear        NaN         0.62             0.43   \n",
       "8                High   Clear       2.77         1.78             0.34   \n",
       "11                Low   Clear       4.78          NaN             0.50   \n",
       "32                Low   Clear       4.07         1.89             0.19   \n",
       "94             Medium   Clear       3.08         1.62             0.15   \n",
       "\n",
       "    Trip_Duration_Minutes  Trip_Price  \n",
       "1                   40.57         NaN  \n",
       "8                  110.33         NaN  \n",
       "11                  79.94         NaN  \n",
       "32                  69.06         NaN  \n",
       "94                  90.14         NaN  "
      ]
     },
     "execution_count": 63,
     "metadata": {},
     "output_type": "execute_result"
    }
   ],
   "source": [
    "df = df[df[\"Trip_Price\"].isna()]\n",
    "df.head()"
   ]
  },
  {
   "cell_type": "markdown",
   "id": "59edb797",
   "metadata": {},
   "source": [
    "### splitting df_missing_label, handling Nan in categoric and numeric coulumns and merging back to df"
   ]
  },
  {
   "cell_type": "code",
   "execution_count": 64,
   "id": "1b6f09bf",
   "metadata": {},
   "outputs": [],
   "source": [
    "X, df_numeric, dfl_boolean, df_categorical, df_target = split_features_target(df) \n"
   ]
  },
  {
   "cell_type": "code",
   "execution_count": 65,
   "id": "638489f6",
   "metadata": {},
   "outputs": [],
   "source": [
    "\n",
    "# Filling NaN in numeric columns with median or mean depending on value\n",
    "df_numeric = fillna_mean_median(df_numeric)\n"
   ]
  },
  {
   "cell_type": "code",
   "execution_count": 66,
   "id": "20d196a9",
   "metadata": {},
   "outputs": [],
   "source": [
    "\n",
    "# Handling missing values in categorical columns using mode\n",
    "dfcategorical = df_categorical.apply(lambda col:col.fillna(col.mode()[0]))\n"
   ]
  },
  {
   "cell_type": "code",
   "execution_count": 67,
   "id": "9a89a86a",
   "metadata": {},
   "outputs": [
    {
     "name": "stdout",
     "output_type": "stream",
     "text": [
      "<class 'pandas.core.frame.DataFrame'>\n",
      "Index: 49 entries, 1 to 991\n",
      "Data columns (total 12 columns):\n",
      " #   Column                     Non-Null Count  Dtype\n",
      "---  ------                     --------------  -----\n",
      " 0   Time_of_Day_Afternoon      49 non-null     bool \n",
      " 1   Time_of_Day_Evening        49 non-null     bool \n",
      " 2   Time_of_Day_Morning        49 non-null     bool \n",
      " 3   Time_of_Day_Night          49 non-null     bool \n",
      " 4   Day_of_Week_Weekday        49 non-null     bool \n",
      " 5   Day_of_Week_Weekend        49 non-null     bool \n",
      " 6   Traffic_Conditions_High    49 non-null     bool \n",
      " 7   Traffic_Conditions_Low     49 non-null     bool \n",
      " 8   Traffic_Conditions_Medium  49 non-null     bool \n",
      " 9   Weather_Clear              49 non-null     bool \n",
      " 10  Weather_Rain               49 non-null     bool \n",
      " 11  Weather_Snow               49 non-null     bool \n",
      "dtypes: bool(12)\n",
      "memory usage: 980.0 bytes\n"
     ]
    }
   ],
   "source": [
    "\n",
    "# creating dummies\n",
    "df_dummies  = pd.get_dummies(df_categorical)\n",
    "df_dummies.info()"
   ]
  },
  {
   "cell_type": "code",
   "execution_count": 68,
   "id": "57530b5e",
   "metadata": {},
   "outputs": [
    {
     "name": "stdout",
     "output_type": "stream",
     "text": [
      "<class 'pandas.core.frame.DataFrame'>\n",
      "Index: 49 entries, 1 to 991\n",
      "Data columns (total 18 columns):\n",
      " #   Column                     Non-Null Count  Dtype  \n",
      "---  ------                     --------------  -----  \n",
      " 0   Time_of_Day_Afternoon      49 non-null     bool   \n",
      " 1   Time_of_Day_Evening        49 non-null     bool   \n",
      " 2   Time_of_Day_Morning        49 non-null     bool   \n",
      " 3   Time_of_Day_Night          49 non-null     bool   \n",
      " 4   Day_of_Week_Weekday        49 non-null     bool   \n",
      " 5   Day_of_Week_Weekend        49 non-null     bool   \n",
      " 6   Traffic_Conditions_High    49 non-null     bool   \n",
      " 7   Traffic_Conditions_Low     49 non-null     bool   \n",
      " 8   Traffic_Conditions_Medium  49 non-null     bool   \n",
      " 9   Weather_Clear              49 non-null     bool   \n",
      " 10  Weather_Rain               49 non-null     bool   \n",
      " 11  Weather_Snow               49 non-null     bool   \n",
      " 12  Trip_Distance_km           49 non-null     float64\n",
      " 13  Passenger_Count            49 non-null     float64\n",
      " 14  Base_Fare                  49 non-null     float64\n",
      " 15  Per_Km_Rate                49 non-null     float64\n",
      " 16  Per_Minute_Rate            49 non-null     float64\n",
      " 17  Trip_Duration_Minutes      49 non-null     float64\n",
      "dtypes: bool(12), float64(6)\n",
      "memory usage: 3.3 KB\n"
     ]
    }
   ],
   "source": [
    "\n",
    "# merging numeric and categorical\n",
    "df = pd.concat([df_dummies, df_numeric], axis=1)\n",
    "df.info()\n",
    "\n"
   ]
  },
  {
   "cell_type": "code",
   "execution_count": 69,
   "id": "0238a46a",
   "metadata": {},
   "outputs": [],
   "source": [
    "### dropping same feats as the cleaned data"
   ]
  },
  {
   "cell_type": "code",
   "execution_count": 70,
   "id": "bfd40ef3",
   "metadata": {},
   "outputs": [
    {
     "name": "stdout",
     "output_type": "stream",
     "text": [
      "<class 'pandas.core.frame.DataFrame'>\n",
      "Index: 49 entries, 1 to 991\n",
      "Data columns (total 10 columns):\n",
      " #   Column                   Non-Null Count  Dtype  \n",
      "---  ------                   --------------  -----  \n",
      " 0   Time_of_Day_Afternoon    49 non-null     bool   \n",
      " 1   Day_of_Week_Weekday      49 non-null     bool   \n",
      " 2   Traffic_Conditions_High  49 non-null     bool   \n",
      " 3   Weather_Rain             49 non-null     bool   \n",
      " 4   Weather_Snow             49 non-null     bool   \n",
      " 5   Trip_Distance_km         49 non-null     float64\n",
      " 6   Base_Fare                49 non-null     float64\n",
      " 7   Per_Km_Rate              49 non-null     float64\n",
      " 8   Per_Minute_Rate          49 non-null     float64\n",
      " 9   Trip_Duration_Minutes    49 non-null     float64\n",
      "dtypes: bool(5), float64(5)\n",
      "memory usage: 2.5 KB\n"
     ]
    }
   ],
   "source": [
    "df_cleaned = df.drop([\n",
    "    \"Time_of_Day_Night\",\n",
    "    \"Time_of_Day_Morning\",\n",
    "    \"Time_of_Day_Evening\",\n",
    "    \"Day_of_Week_Weekend\",\n",
    "    \"Traffic_Conditions_Low\",\n",
    "    \"Weather_Clear\",\n",
    "    \"Passenger_Count\",\n",
    "    \"Traffic_Conditions_Medium\"],\n",
    "    axis=\"columns\"\n",
    ")\n",
    "df_cleaned.info()"
   ]
  },
  {
   "cell_type": "markdown",
   "id": "5b20f8fe",
   "metadata": {},
   "source": [
    "Exporting df_missing_label to csv files"
   ]
  },
  {
   "cell_type": "code",
   "execution_count": 71,
   "id": "9f0d7e6b",
   "metadata": {},
   "outputs": [],
   "source": [
    "export_path = \"../src/taxipred/data/missing_label.json\"\n",
    "\n",
    "df_cleaned.to_json(export_path, orient=\"records\", lines=False)"
   ]
  }
 ],
 "metadata": {
  "kernelspec": {
   "display_name": "taxi-prediction-fullstack-stefan-lundberg-opa24 (3.13.7)",
   "language": "python",
   "name": "python3"
  },
  "language_info": {
   "codemirror_mode": {
    "name": "ipython",
    "version": 3
   },
   "file_extension": ".py",
   "mimetype": "text/x-python",
   "name": "python",
   "nbconvert_exporter": "python",
   "pygments_lexer": "ipython3",
   "version": "3.13.7"
  }
 },
 "nbformat": 4,
 "nbformat_minor": 5
}
