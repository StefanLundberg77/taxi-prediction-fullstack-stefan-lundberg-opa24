{
 "cells": [
  {
   "cell_type": "markdown",
   "id": "6641512e",
   "metadata": {},
   "source": [
    "# Training, testing and evaluating models for data\n"
   ]
  },
  {
   "cell_type": "code",
   "execution_count": null,
   "id": "bfe0abd6",
   "metadata": {},
   "outputs": [
    {
     "data": {
      "text/html": [
       "<div>\n",
       "<style scoped>\n",
       "    .dataframe tbody tr th:only-of-type {\n",
       "        vertical-align: middle;\n",
       "    }\n",
       "\n",
       "    .dataframe tbody tr th {\n",
       "        vertical-align: top;\n",
       "    }\n",
       "\n",
       "    .dataframe thead th {\n",
       "        text-align: right;\n",
       "    }\n",
       "</style>\n",
       "<table border=\"1\" class=\"dataframe\">\n",
       "  <thead>\n",
       "    <tr style=\"text-align: right;\">\n",
       "      <th></th>\n",
       "      <th>Trip_Distance_km</th>\n",
       "      <th>Base_Fare</th>\n",
       "      <th>Per_Km_Rate</th>\n",
       "      <th>Per_Minute_Rate</th>\n",
       "      <th>Trip_Duration_Minutes</th>\n",
       "      <th>Time_of_Day_Afternoon</th>\n",
       "      <th>Day_of_Week_Weekday</th>\n",
       "      <th>Traffic_Conditions_High</th>\n",
       "      <th>Weather_Rain</th>\n",
       "      <th>Weather_Snow</th>\n",
       "      <th>Trip_Price</th>\n",
       "    </tr>\n",
       "  </thead>\n",
       "  <tbody>\n",
       "    <tr>\n",
       "      <th>0</th>\n",
       "      <td>19.350000</td>\n",
       "      <td>3.560000</td>\n",
       "      <td>0.80</td>\n",
       "      <td>0.32</td>\n",
       "      <td>53.82</td>\n",
       "      <td>False</td>\n",
       "      <td>True</td>\n",
       "      <td>False</td>\n",
       "      <td>False</td>\n",
       "      <td>False</td>\n",
       "      <td>36.2624</td>\n",
       "    </tr>\n",
       "    <tr>\n",
       "      <th>1</th>\n",
       "      <td>47.590000</td>\n",
       "      <td>3.502989</td>\n",
       "      <td>0.62</td>\n",
       "      <td>0.43</td>\n",
       "      <td>40.57</td>\n",
       "      <td>True</td>\n",
       "      <td>True</td>\n",
       "      <td>True</td>\n",
       "      <td>False</td>\n",
       "      <td>False</td>\n",
       "      <td>53.6163</td>\n",
       "    </tr>\n",
       "    <tr>\n",
       "      <th>2</th>\n",
       "      <td>36.870000</td>\n",
       "      <td>2.700000</td>\n",
       "      <td>1.21</td>\n",
       "      <td>0.15</td>\n",
       "      <td>37.27</td>\n",
       "      <td>False</td>\n",
       "      <td>False</td>\n",
       "      <td>True</td>\n",
       "      <td>False</td>\n",
       "      <td>False</td>\n",
       "      <td>52.9032</td>\n",
       "    </tr>\n",
       "    <tr>\n",
       "      <th>3</th>\n",
       "      <td>30.330000</td>\n",
       "      <td>3.480000</td>\n",
       "      <td>0.51</td>\n",
       "      <td>0.15</td>\n",
       "      <td>116.81</td>\n",
       "      <td>False</td>\n",
       "      <td>True</td>\n",
       "      <td>False</td>\n",
       "      <td>False</td>\n",
       "      <td>False</td>\n",
       "      <td>36.4698</td>\n",
       "    </tr>\n",
       "    <tr>\n",
       "      <th>4</th>\n",
       "      <td>27.070547</td>\n",
       "      <td>2.930000</td>\n",
       "      <td>0.63</td>\n",
       "      <td>0.32</td>\n",
       "      <td>22.64</td>\n",
       "      <td>False</td>\n",
       "      <td>True</td>\n",
       "      <td>True</td>\n",
       "      <td>False</td>\n",
       "      <td>False</td>\n",
       "      <td>15.6180</td>\n",
       "    </tr>\n",
       "  </tbody>\n",
       "</table>\n",
       "</div>"
      ],
      "text/plain": [
       "   Trip_Distance_km  Base_Fare  Per_Km_Rate  Per_Minute_Rate  \\\n",
       "0         19.350000   3.560000         0.80             0.32   \n",
       "1         47.590000   3.502989         0.62             0.43   \n",
       "2         36.870000   2.700000         1.21             0.15   \n",
       "3         30.330000   3.480000         0.51             0.15   \n",
       "4         27.070547   2.930000         0.63             0.32   \n",
       "\n",
       "   Trip_Duration_Minutes  Time_of_Day_Afternoon  Day_of_Week_Weekday  \\\n",
       "0                  53.82                  False                 True   \n",
       "1                  40.57                   True                 True   \n",
       "2                  37.27                  False                False   \n",
       "3                 116.81                  False                 True   \n",
       "4                  22.64                  False                 True   \n",
       "\n",
       "   Traffic_Conditions_High  Weather_Rain  Weather_Snow  Trip_Price  \n",
       "0                    False         False         False     36.2624  \n",
       "1                     True         False         False     53.6163  \n",
       "2                     True         False         False     52.9032  \n",
       "3                    False         False         False     36.4698  \n",
       "4                     True         False         False     15.6180  "
      ]
     },
     "execution_count": 82,
     "metadata": {},
     "output_type": "execute_result"
    }
   ],
   "source": [
    "from sklearn.ensemble import RandomForestRegressor\n",
    "from sklearn.linear_model import LinearRegression, Ridge, Lasso\n",
    "from sklearn.neighbors import KNeighborsRegressor\n",
    "from sklearn.svm import SVR\n",
    "from sklearn.neural_network import MLPRegressor\n",
    "from xgboost import XGBRegressor\n",
    "from sklearn.preprocessing import StandardScaler\n",
    "from sklearn.model_selection import GridSearchCV\n",
    "from sklearn.pipeline import Pipeline\n",
    "from sklearn.model_selection import RandomizedSearchCV\n",
    "from sklearn.metrics import accuracy_score, roc_auc_score, make_scorer\n",
    "from sklearn.metrics import mean_absolute_error, mean_squared_error, r2_score\n",
    "import joblib\n",
    "import pandas as pd\n",
    "import numpy as np\n",
    "from taxipred.utils.constants import get_clean_data\n",
    "from Cleaning_functions import split_features_target\n",
    "from model_functions import train_evaluate\n",
    "\n",
    "df = get_clean_data()\n",
    "df.head()"
   ]
  },
  {
   "cell_type": "code",
   "execution_count": 83,
   "id": "34c506a7",
   "metadata": {},
   "outputs": [],
   "source": [
    "df_numeric, df_categorical, df_target = split_features_target(df)"
   ]
  },
  {
   "cell_type": "markdown",
   "id": "b8db0faf",
   "metadata": {},
   "source": [
    "### Splitting the data into target and features"
   ]
  },
  {
   "cell_type": "code",
   "execution_count": 84,
   "id": "9abdab0d",
   "metadata": {},
   "outputs": [
    {
     "data": {
      "text/html": [
       "<div>\n",
       "<style scoped>\n",
       "    .dataframe tbody tr th:only-of-type {\n",
       "        vertical-align: middle;\n",
       "    }\n",
       "\n",
       "    .dataframe tbody tr th {\n",
       "        vertical-align: top;\n",
       "    }\n",
       "\n",
       "    .dataframe thead th {\n",
       "        text-align: right;\n",
       "    }\n",
       "</style>\n",
       "<table border=\"1\" class=\"dataframe\">\n",
       "  <thead>\n",
       "    <tr style=\"text-align: right;\">\n",
       "      <th></th>\n",
       "      <th>Trip_Distance_km</th>\n",
       "      <th>Base_Fare</th>\n",
       "      <th>Per_Km_Rate</th>\n",
       "      <th>Per_Minute_Rate</th>\n",
       "      <th>Trip_Duration_Minutes</th>\n",
       "    </tr>\n",
       "  </thead>\n",
       "  <tbody>\n",
       "    <tr>\n",
       "      <th>0</th>\n",
       "      <td>19.350000</td>\n",
       "      <td>3.560000</td>\n",
       "      <td>0.80</td>\n",
       "      <td>0.32</td>\n",
       "      <td>53.82</td>\n",
       "    </tr>\n",
       "    <tr>\n",
       "      <th>1</th>\n",
       "      <td>47.590000</td>\n",
       "      <td>3.502989</td>\n",
       "      <td>0.62</td>\n",
       "      <td>0.43</td>\n",
       "      <td>40.57</td>\n",
       "    </tr>\n",
       "    <tr>\n",
       "      <th>2</th>\n",
       "      <td>36.870000</td>\n",
       "      <td>2.700000</td>\n",
       "      <td>1.21</td>\n",
       "      <td>0.15</td>\n",
       "      <td>37.27</td>\n",
       "    </tr>\n",
       "    <tr>\n",
       "      <th>3</th>\n",
       "      <td>30.330000</td>\n",
       "      <td>3.480000</td>\n",
       "      <td>0.51</td>\n",
       "      <td>0.15</td>\n",
       "      <td>116.81</td>\n",
       "    </tr>\n",
       "    <tr>\n",
       "      <th>4</th>\n",
       "      <td>27.070547</td>\n",
       "      <td>2.930000</td>\n",
       "      <td>0.63</td>\n",
       "      <td>0.32</td>\n",
       "      <td>22.64</td>\n",
       "    </tr>\n",
       "  </tbody>\n",
       "</table>\n",
       "</div>"
      ],
      "text/plain": [
       "   Trip_Distance_km  Base_Fare  Per_Km_Rate  Per_Minute_Rate  \\\n",
       "0         19.350000   3.560000         0.80             0.32   \n",
       "1         47.590000   3.502989         0.62             0.43   \n",
       "2         36.870000   2.700000         1.21             0.15   \n",
       "3         30.330000   3.480000         0.51             0.15   \n",
       "4         27.070547   2.930000         0.63             0.32   \n",
       "\n",
       "   Trip_Duration_Minutes  \n",
       "0                  53.82  \n",
       "1                  40.57  \n",
       "2                  37.27  \n",
       "3                 116.81  \n",
       "4                  22.64  "
      ]
     },
     "execution_count": 84,
     "metadata": {},
     "output_type": "execute_result"
    }
   ],
   "source": [
    "# merging features into one dataframe\n",
    "df_features = pd.concat([df_numeric, df_categorical], axis=1)\n",
    "\n",
    "X, y = df_features, df_target\n",
    "X.head()"
   ]
  },
  {
   "cell_type": "markdown",
   "id": "e40087c8",
   "metadata": {},
   "source": [
    "### train|test split"
   ]
  },
  {
   "cell_type": "code",
   "execution_count": 85,
   "id": "1d2bd7e9",
   "metadata": {},
   "outputs": [
    {
     "data": {
      "text/plain": [
       "((800, 5), (200, 5))"
      ]
     },
     "execution_count": 85,
     "metadata": {},
     "output_type": "execute_result"
    }
   ],
   "source": [
    "from sklearn.model_selection import train_test_split\n",
    "X_train, X_test, y_train, y_test = train_test_split(X, y, test_size=0.2, random_state=42)\n",
    "y_train = y_train.values.ravel()\n",
    "y_test = y_test.values.ravel()\n",
    "\n",
    "\n",
    "X_train.shape, X_test.shape"
   ]
  },
  {
   "cell_type": "markdown",
   "id": "4091511a",
   "metadata": {},
   "source": [
    "### method for prediction models "
   ]
  },
  {
   "cell_type": "markdown",
   "id": "b02f7c4b",
   "metadata": {},
   "source": [
    "https://www.geeksforgeeks.org/machine-learning/hyperparameter-tuning-in-linear-regression/"
   ]
  },
  {
   "cell_type": "code",
   "execution_count": null,
   "id": "a2eafa77",
   "metadata": {},
   "outputs": [],
   "source": [
    "\n",
    "# creating a dict for different estimators to evaluate\n",
    "models = {\"linear\": {\"model\": LinearRegression(), \"scale\": True},\n",
    "          \"knn\": {\"model\": KNeighborsRegressor(), \"scale\": True},\n",
    "          \"svr\": {\"model\": SVR(), \"scale\": True},\n",
    "          \"rnd\": {\"model\": RandomForestRegressor(), \"scale\": False},\n",
    "          \"mlp\": {\"model\": MLPRegressor(), \"scale\": True},\n",
    "          \"ridge\": {\"model\": Ridge(), \"scale\": True},\n",
    "          \"lasso\":{\"model\": Lasso(), \"scale\": True},\n",
    "          \"xgb\": {\"model\": XGBRegressor(), \"scale\": True}\n",
    "}"
   ]
  },
  {
   "cell_type": "markdown",
   "id": "7f5ab015",
   "metadata": {},
   "source": [
    "### tuning the model for with cross-validation for omptimal hyperparameters"
   ]
  },
  {
   "cell_type": "code",
   "execution_count": null,
   "id": "dc8f0102",
   "metadata": {},
   "outputs": [
    {
     "ename": "TypeError",
     "evalue": "Parameter grid for parameter 'memory' needs to be a list or a numpy array, but got None (of type NoneType) instead. Single values need to be wrapped in a list with one element.",
     "output_type": "error",
     "traceback": [
      "\u001b[31m---------------------------------------------------------------------------\u001b[39m",
      "\u001b[31mTypeError\u001b[39m                                 Traceback (most recent call last)",
      "\u001b[36mCell\u001b[39m\u001b[36m \u001b[39m\u001b[32mIn[89]\u001b[39m\u001b[32m, line 4\u001b[39m\n\u001b[32m      1\u001b[39m metric_results = []\n\u001b[32m      3\u001b[39m \u001b[38;5;28;01mfor\u001b[39;00m model \u001b[38;5;129;01min\u001b[39;00m models:\n\u001b[32m----> \u001b[39m\u001b[32m4\u001b[39m     model, metrics = \u001b[43mtrain_evaluate\u001b[49m\u001b[43m(\u001b[49m\u001b[43mX_train\u001b[49m\u001b[43m,\u001b[49m\u001b[43m \u001b[49m\u001b[43my_train\u001b[49m\u001b[43m,\u001b[49m\u001b[43m \u001b[49m\u001b[43mX_test\u001b[49m\u001b[43m,\u001b[49m\u001b[43m \u001b[49m\u001b[43my_test\u001b[49m\u001b[43m,\u001b[49m\u001b[43m \u001b[49m\u001b[43mmodel\u001b[49m\u001b[43m=\u001b[49m\u001b[43mmodel\u001b[49m\u001b[43m)\u001b[49m\n\u001b[32m      5\u001b[39m     metric_results.append({\n\u001b[32m      6\u001b[39m         \u001b[33m\"\u001b[39m\u001b[33mModel\u001b[39m\u001b[33m\"\u001b[39m: model,\n\u001b[32m      7\u001b[39m         \u001b[33m\"\u001b[39m\u001b[33mMAE\u001b[39m\u001b[33m\"\u001b[39m: metrics[\u001b[33m\"\u001b[39m\u001b[33mMAE\u001b[39m\u001b[33m\"\u001b[39m],\n\u001b[32m   (...)\u001b[39m\u001b[32m     10\u001b[39m         \u001b[33m\"\u001b[39m\u001b[33mR2\u001b[39m\u001b[33m\"\u001b[39m: metrics[\u001b[33m\"\u001b[39m\u001b[33mR2\u001b[39m\u001b[33m\"\u001b[39m]\n\u001b[32m     11\u001b[39m     })\n\u001b[32m     13\u001b[39m results_df = pd.DataFrame(metric_results).sort_values(by=\u001b[33m\"\u001b[39m\u001b[33mR2\u001b[39m\u001b[33m\"\u001b[39m, ascending=\u001b[38;5;28;01mFalse\u001b[39;00m)\n",
      "\u001b[36mCell\u001b[39m\u001b[36m \u001b[39m\u001b[32mIn[87]\u001b[39m\u001b[32m, line 32\u001b[39m, in \u001b[36mtrain_evaluate\u001b[39m\u001b[34m(X_train, y_train, X_test, y_test, model)\u001b[39m\n\u001b[32m     30\u001b[39m pipeline = Pipeline(steps)\n\u001b[32m     31\u001b[39m grid = GridSearchCV(pipeline, pipeline.get_params(), cv=\u001b[32m3\u001b[39m, scoring=\u001b[33m\"\u001b[39m\u001b[33mr2\u001b[39m\u001b[33m\"\u001b[39m, n_jobs=-\u001b[32m1\u001b[39m)\n\u001b[32m---> \u001b[39m\u001b[32m32\u001b[39m \u001b[43mgrid\u001b[49m\u001b[43m.\u001b[49m\u001b[43mfit\u001b[49m\u001b[43m(\u001b[49m\u001b[43mX_train\u001b[49m\u001b[43m,\u001b[49m\u001b[43m \u001b[49m\u001b[43my_train\u001b[49m\u001b[43m)\u001b[49m\n\u001b[32m     34\u001b[39m score = grid.best_score_\n\u001b[32m     35\u001b[39m results.append({\n\u001b[32m     36\u001b[39m     \u001b[33m\"\u001b[39m\u001b[33mModel\u001b[39m\u001b[33m\"\u001b[39m: name,\n\u001b[32m     37\u001b[39m     \u001b[33m\"\u001b[39m\u001b[33mBest R2\u001b[39m\u001b[33m\"\u001b[39m: score,\n\u001b[32m     38\u001b[39m     \u001b[33m\"\u001b[39m\u001b[33mBest Params\u001b[39m\u001b[33m\"\u001b[39m: grid.best_params_\n\u001b[32m     39\u001b[39m })\n",
      "\u001b[36mFile \u001b[39m\u001b[32mc:\\Users\\metal\\Skola\\course\\taxi-prediction-fullstack-stefan-lundberg-opa24\\.venv\\Lib\\site-packages\\sklearn\\base.py:1365\u001b[39m, in \u001b[36m_fit_context.<locals>.decorator.<locals>.wrapper\u001b[39m\u001b[34m(estimator, *args, **kwargs)\u001b[39m\n\u001b[32m   1358\u001b[39m     estimator._validate_params()\n\u001b[32m   1360\u001b[39m \u001b[38;5;28;01mwith\u001b[39;00m config_context(\n\u001b[32m   1361\u001b[39m     skip_parameter_validation=(\n\u001b[32m   1362\u001b[39m         prefer_skip_nested_validation \u001b[38;5;129;01mor\u001b[39;00m global_skip_validation\n\u001b[32m   1363\u001b[39m     )\n\u001b[32m   1364\u001b[39m ):\n\u001b[32m-> \u001b[39m\u001b[32m1365\u001b[39m     \u001b[38;5;28;01mreturn\u001b[39;00m \u001b[43mfit_method\u001b[49m\u001b[43m(\u001b[49m\u001b[43mestimator\u001b[49m\u001b[43m,\u001b[49m\u001b[43m \u001b[49m\u001b[43m*\u001b[49m\u001b[43margs\u001b[49m\u001b[43m,\u001b[49m\u001b[43m \u001b[49m\u001b[43m*\u001b[49m\u001b[43m*\u001b[49m\u001b[43mkwargs\u001b[49m\u001b[43m)\u001b[49m\n",
      "\u001b[36mFile \u001b[39m\u001b[32mc:\\Users\\metal\\Skola\\course\\taxi-prediction-fullstack-stefan-lundberg-opa24\\.venv\\Lib\\site-packages\\sklearn\\model_selection\\_search.py:1051\u001b[39m, in \u001b[36mBaseSearchCV.fit\u001b[39m\u001b[34m(self, X, y, **params)\u001b[39m\n\u001b[32m   1045\u001b[39m     results = \u001b[38;5;28mself\u001b[39m._format_results(\n\u001b[32m   1046\u001b[39m         all_candidate_params, n_splits, all_out, all_more_results\n\u001b[32m   1047\u001b[39m     )\n\u001b[32m   1049\u001b[39m     \u001b[38;5;28;01mreturn\u001b[39;00m results\n\u001b[32m-> \u001b[39m\u001b[32m1051\u001b[39m \u001b[38;5;28;43mself\u001b[39;49m\u001b[43m.\u001b[49m\u001b[43m_run_search\u001b[49m\u001b[43m(\u001b[49m\u001b[43mevaluate_candidates\u001b[49m\u001b[43m)\u001b[49m\n\u001b[32m   1053\u001b[39m \u001b[38;5;66;03m# multimetric is determined here because in the case of a callable\u001b[39;00m\n\u001b[32m   1054\u001b[39m \u001b[38;5;66;03m# self.scoring the return type is only known after calling\u001b[39;00m\n\u001b[32m   1055\u001b[39m first_test_score = all_out[\u001b[32m0\u001b[39m][\u001b[33m\"\u001b[39m\u001b[33mtest_scores\u001b[39m\u001b[33m\"\u001b[39m]\n",
      "\u001b[36mFile \u001b[39m\u001b[32mc:\\Users\\metal\\Skola\\course\\taxi-prediction-fullstack-stefan-lundberg-opa24\\.venv\\Lib\\site-packages\\sklearn\\model_selection\\_search.py:1605\u001b[39m, in \u001b[36mGridSearchCV._run_search\u001b[39m\u001b[34m(self, evaluate_candidates)\u001b[39m\n\u001b[32m   1603\u001b[39m \u001b[38;5;28;01mdef\u001b[39;00m\u001b[38;5;250m \u001b[39m\u001b[34m_run_search\u001b[39m(\u001b[38;5;28mself\u001b[39m, evaluate_candidates):\n\u001b[32m   1604\u001b[39m \u001b[38;5;250m    \u001b[39m\u001b[33;03m\"\"\"Search all candidates in param_grid\"\"\"\u001b[39;00m\n\u001b[32m-> \u001b[39m\u001b[32m1605\u001b[39m     evaluate_candidates(\u001b[43mParameterGrid\u001b[49m\u001b[43m(\u001b[49m\u001b[38;5;28;43mself\u001b[39;49m\u001b[43m.\u001b[49m\u001b[43mparam_grid\u001b[49m\u001b[43m)\u001b[49m)\n",
      "\u001b[36mFile \u001b[39m\u001b[32mc:\\Users\\metal\\Skola\\course\\taxi-prediction-fullstack-stefan-lundberg-opa24\\.venv\\Lib\\site-packages\\sklearn\\model_selection\\_search.py:129\u001b[39m, in \u001b[36mParameterGrid.__init__\u001b[39m\u001b[34m(self, param_grid)\u001b[39m\n\u001b[32m    122\u001b[39m     \u001b[38;5;28;01mraise\u001b[39;00m \u001b[38;5;167;01mValueError\u001b[39;00m(\n\u001b[32m    123\u001b[39m         \u001b[33mf\u001b[39m\u001b[33m\"\u001b[39m\u001b[33mParameter array for \u001b[39m\u001b[38;5;132;01m{\u001b[39;00mkey\u001b[38;5;132;01m!r}\u001b[39;00m\u001b[33m should be one-dimensional, got:\u001b[39m\u001b[33m\"\u001b[39m\n\u001b[32m    124\u001b[39m         \u001b[33mf\u001b[39m\u001b[33m\"\u001b[39m\u001b[33m \u001b[39m\u001b[38;5;132;01m{\u001b[39;00mvalue\u001b[38;5;132;01m!r}\u001b[39;00m\u001b[33m with shape \u001b[39m\u001b[38;5;132;01m{\u001b[39;00mvalue.shape\u001b[38;5;132;01m}\u001b[39;00m\u001b[33m\"\u001b[39m\n\u001b[32m    125\u001b[39m     )\n\u001b[32m    126\u001b[39m \u001b[38;5;28;01mif\u001b[39;00m \u001b[38;5;28misinstance\u001b[39m(value, \u001b[38;5;28mstr\u001b[39m) \u001b[38;5;129;01mor\u001b[39;00m \u001b[38;5;129;01mnot\u001b[39;00m \u001b[38;5;28misinstance\u001b[39m(\n\u001b[32m    127\u001b[39m     value, (np.ndarray, Sequence)\n\u001b[32m    128\u001b[39m ):\n\u001b[32m--> \u001b[39m\u001b[32m129\u001b[39m     \u001b[38;5;28;01mraise\u001b[39;00m \u001b[38;5;167;01mTypeError\u001b[39;00m(\n\u001b[32m    130\u001b[39m         \u001b[33mf\u001b[39m\u001b[33m\"\u001b[39m\u001b[33mParameter grid for parameter \u001b[39m\u001b[38;5;132;01m{\u001b[39;00mkey\u001b[38;5;132;01m!r}\u001b[39;00m\u001b[33m needs to be a list or a\u001b[39m\u001b[33m\"\u001b[39m\n\u001b[32m    131\u001b[39m         \u001b[33mf\u001b[39m\u001b[33m\"\u001b[39m\u001b[33m numpy array, but got \u001b[39m\u001b[38;5;132;01m{\u001b[39;00mvalue\u001b[38;5;132;01m!r}\u001b[39;00m\u001b[33m (of type \u001b[39m\u001b[33m\"\u001b[39m\n\u001b[32m    132\u001b[39m         \u001b[33mf\u001b[39m\u001b[33m\"\u001b[39m\u001b[38;5;132;01m{\u001b[39;00m\u001b[38;5;28mtype\u001b[39m(value).\u001b[34m__name__\u001b[39m\u001b[38;5;132;01m}\u001b[39;00m\u001b[33m) instead. Single values \u001b[39m\u001b[33m\"\u001b[39m\n\u001b[32m    133\u001b[39m         \u001b[33m\"\u001b[39m\u001b[33mneed to be wrapped in a list with one element.\u001b[39m\u001b[33m\"\u001b[39m\n\u001b[32m    134\u001b[39m     )\n\u001b[32m    135\u001b[39m \u001b[38;5;28;01mif\u001b[39;00m \u001b[38;5;28mlen\u001b[39m(value) == \u001b[32m0\u001b[39m:\n\u001b[32m    136\u001b[39m     \u001b[38;5;28;01mraise\u001b[39;00m \u001b[38;5;167;01mValueError\u001b[39;00m(\n\u001b[32m    137\u001b[39m         \u001b[33mf\u001b[39m\u001b[33m\"\u001b[39m\u001b[33mParameter grid for parameter \u001b[39m\u001b[38;5;132;01m{\u001b[39;00mkey\u001b[38;5;132;01m!r}\u001b[39;00m\u001b[33m need \u001b[39m\u001b[33m\"\u001b[39m\n\u001b[32m    138\u001b[39m         \u001b[33mf\u001b[39m\u001b[33m\"\u001b[39m\u001b[33mto be a non-empty sequence, got: \u001b[39m\u001b[38;5;132;01m{\u001b[39;00mvalue\u001b[38;5;132;01m!r}\u001b[39;00m\u001b[33m\"\u001b[39m\n\u001b[32m    139\u001b[39m     )\n",
      "\u001b[31mTypeError\u001b[39m: Parameter grid for parameter 'memory' needs to be a list or a numpy array, but got None (of type NoneType) instead. Single values need to be wrapped in a list with one element."
     ]
    }
   ],
   "source": [
    "metric_results = []\n",
    "\n",
    "for model in models:\n",
    "    model, metrics = train_evaluate(X_train, y_train, X_test, y_test, models)\n",
    "    metric_results.append({\n",
    "        \"Model\": model,\n",
    "        \"MAE\": metrics[\"MAE\"],\n",
    "        \"MSE\": metrics[\"MSE\"],\n",
    "        \"RMSE\": metrics[\"RMSE\"],\n",
    "        \"R2\": metrics[\"R2\"]\n",
    "    })\n",
    "\n",
    "results_df = pd.DataFrame(metric_results).sort_values(by=\"R2\", ascending=False)\n",
    "print(results_df)"
   ]
  },
  {
   "cell_type": "markdown",
   "id": "24a37d6a",
   "metadata": {},
   "source": [
    "### exporting data using joblib"
   ]
  },
  {
   "cell_type": "code",
   "execution_count": null,
   "id": "0aab9f33",
   "metadata": {},
   "outputs": [],
   "source": [
    "# model, metrics = train_evaluate(X_train, y_train, X_test, y_test, model_type=\"random_forest\", model_path=\"random_forest.joblib\")\n",
    "# loaded_model = joblib.load(\"random_forest.joblib\")\n",
    "# loaded_model"
   ]
  }
 ],
 "metadata": {
  "kernelspec": {
   "display_name": "taxi-prediction-fullstack-stefan-lundberg-opa24 (3.13.7)",
   "language": "python",
   "name": "python3"
  },
  "language_info": {
   "codemirror_mode": {
    "name": "ipython",
    "version": 3
   },
   "file_extension": ".py",
   "mimetype": "text/x-python",
   "name": "python",
   "nbconvert_exporter": "python",
   "pygments_lexer": "ipython3",
   "version": "3.13.7"
  }
 },
 "nbformat": 4,
 "nbformat_minor": 5
}
