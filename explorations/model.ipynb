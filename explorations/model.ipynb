{
 "cells": [
  {
   "cell_type": "markdown",
   "id": "6641512e",
   "metadata": {},
   "source": [
    "# Training, testing and evaluating models for data\n"
   ]
  },
  {
   "cell_type": "code",
   "execution_count": 1,
   "id": "bfe0abd6",
   "metadata": {},
   "outputs": [
    {
     "data": {
      "text/html": [
       "<div>\n",
       "<style scoped>\n",
       "    .dataframe tbody tr th:only-of-type {\n",
       "        vertical-align: middle;\n",
       "    }\n",
       "\n",
       "    .dataframe tbody tr th {\n",
       "        vertical-align: top;\n",
       "    }\n",
       "\n",
       "    .dataframe thead th {\n",
       "        text-align: right;\n",
       "    }\n",
       "</style>\n",
       "<table border=\"1\" class=\"dataframe\">\n",
       "  <thead>\n",
       "    <tr style=\"text-align: right;\">\n",
       "      <th></th>\n",
       "      <th>Trip_Distance_km</th>\n",
       "      <th>Base_Fare</th>\n",
       "      <th>Per_Km_Rate</th>\n",
       "      <th>Per_Minute_Rate</th>\n",
       "      <th>Trip_Duration_Minutes</th>\n",
       "      <th>Time_of_Day_Afternoon</th>\n",
       "      <th>Day_of_Week_Weekday</th>\n",
       "      <th>Traffic_Conditions_High</th>\n",
       "      <th>Weather_Rain</th>\n",
       "      <th>Weather_Snow</th>\n",
       "      <th>Trip_Price</th>\n",
       "    </tr>\n",
       "  </thead>\n",
       "  <tbody>\n",
       "    <tr>\n",
       "      <th>0</th>\n",
       "      <td>19.350000</td>\n",
       "      <td>3.560000</td>\n",
       "      <td>0.80</td>\n",
       "      <td>0.32</td>\n",
       "      <td>53.82</td>\n",
       "      <td>False</td>\n",
       "      <td>True</td>\n",
       "      <td>False</td>\n",
       "      <td>False</td>\n",
       "      <td>False</td>\n",
       "      <td>36.2624</td>\n",
       "    </tr>\n",
       "    <tr>\n",
       "      <th>1</th>\n",
       "      <td>47.590000</td>\n",
       "      <td>3.502989</td>\n",
       "      <td>0.62</td>\n",
       "      <td>0.43</td>\n",
       "      <td>40.57</td>\n",
       "      <td>True</td>\n",
       "      <td>True</td>\n",
       "      <td>True</td>\n",
       "      <td>False</td>\n",
       "      <td>False</td>\n",
       "      <td>53.6163</td>\n",
       "    </tr>\n",
       "    <tr>\n",
       "      <th>2</th>\n",
       "      <td>36.870000</td>\n",
       "      <td>2.700000</td>\n",
       "      <td>1.21</td>\n",
       "      <td>0.15</td>\n",
       "      <td>37.27</td>\n",
       "      <td>False</td>\n",
       "      <td>False</td>\n",
       "      <td>True</td>\n",
       "      <td>False</td>\n",
       "      <td>False</td>\n",
       "      <td>52.9032</td>\n",
       "    </tr>\n",
       "    <tr>\n",
       "      <th>3</th>\n",
       "      <td>30.330000</td>\n",
       "      <td>3.480000</td>\n",
       "      <td>0.51</td>\n",
       "      <td>0.15</td>\n",
       "      <td>116.81</td>\n",
       "      <td>False</td>\n",
       "      <td>True</td>\n",
       "      <td>False</td>\n",
       "      <td>False</td>\n",
       "      <td>False</td>\n",
       "      <td>36.4698</td>\n",
       "    </tr>\n",
       "    <tr>\n",
       "      <th>4</th>\n",
       "      <td>27.070547</td>\n",
       "      <td>2.930000</td>\n",
       "      <td>0.63</td>\n",
       "      <td>0.32</td>\n",
       "      <td>22.64</td>\n",
       "      <td>False</td>\n",
       "      <td>True</td>\n",
       "      <td>True</td>\n",
       "      <td>False</td>\n",
       "      <td>False</td>\n",
       "      <td>15.6180</td>\n",
       "    </tr>\n",
       "  </tbody>\n",
       "</table>\n",
       "</div>"
      ],
      "text/plain": [
       "   Trip_Distance_km  Base_Fare  Per_Km_Rate  Per_Minute_Rate  \\\n",
       "0         19.350000   3.560000         0.80             0.32   \n",
       "1         47.590000   3.502989         0.62             0.43   \n",
       "2         36.870000   2.700000         1.21             0.15   \n",
       "3         30.330000   3.480000         0.51             0.15   \n",
       "4         27.070547   2.930000         0.63             0.32   \n",
       "\n",
       "   Trip_Duration_Minutes  Time_of_Day_Afternoon  Day_of_Week_Weekday  \\\n",
       "0                  53.82                  False                 True   \n",
       "1                  40.57                   True                 True   \n",
       "2                  37.27                  False                False   \n",
       "3                 116.81                  False                 True   \n",
       "4                  22.64                  False                 True   \n",
       "\n",
       "   Traffic_Conditions_High  Weather_Rain  Weather_Snow  Trip_Price  \n",
       "0                    False         False         False     36.2624  \n",
       "1                     True         False         False     53.6163  \n",
       "2                     True         False         False     52.9032  \n",
       "3                    False         False         False     36.4698  \n",
       "4                     True         False         False     15.6180  "
      ]
     },
     "execution_count": 1,
     "metadata": {},
     "output_type": "execute_result"
    }
   ],
   "source": [
    "from sklearn.ensemble import RandomForestRegressor\n",
    "from sklearn.linear_model import LinearRegression, Ridge, Lasso\n",
    "from sklearn.neighbors import KNeighborsRegressor\n",
    "from sklearn.svm import SVR\n",
    "from sklearn.neural_network import MLPRegressor\n",
    "from xgboost import XGBRegressor\n",
    "from sklearn.preprocessing import StandardScaler\n",
    "from sklearn.model_selection import GridSearchCV\n",
    "from sklearn.pipeline import Pipeline\n",
    "from sklearn.model_selection import RandomizedSearchCV\n",
    "from sklearn.metrics import accuracy_score, roc_auc_score, make_scorer\n",
    "from sklearn.metrics import mean_absolute_error, mean_squared_error, r2_score\n",
    "import joblib\n",
    "import pandas as pd\n",
    "import numpy as np\n",
    "from taxipred.utils.constants import get_clean_data\n",
    "from Cleaning_functions import split_features_target\n",
    "from model_functions import hyper_optimize, train_evaluate, tune_model\n",
    "\n",
    "df = get_clean_data()\n",
    "df.head()"
   ]
  },
  {
   "cell_type": "code",
   "execution_count": 2,
   "id": "34c506a7",
   "metadata": {},
   "outputs": [],
   "source": [
    "df_numeric, df_categorical, df_target = split_features_target(df)"
   ]
  },
  {
   "cell_type": "markdown",
   "id": "b8db0faf",
   "metadata": {},
   "source": [
    "### Splitting the data into target and features"
   ]
  },
  {
   "cell_type": "code",
   "execution_count": 3,
   "id": "9abdab0d",
   "metadata": {},
   "outputs": [
    {
     "data": {
      "text/html": [
       "<div>\n",
       "<style scoped>\n",
       "    .dataframe tbody tr th:only-of-type {\n",
       "        vertical-align: middle;\n",
       "    }\n",
       "\n",
       "    .dataframe tbody tr th {\n",
       "        vertical-align: top;\n",
       "    }\n",
       "\n",
       "    .dataframe thead th {\n",
       "        text-align: right;\n",
       "    }\n",
       "</style>\n",
       "<table border=\"1\" class=\"dataframe\">\n",
       "  <thead>\n",
       "    <tr style=\"text-align: right;\">\n",
       "      <th></th>\n",
       "      <th>Trip_Distance_km</th>\n",
       "      <th>Base_Fare</th>\n",
       "      <th>Per_Km_Rate</th>\n",
       "      <th>Per_Minute_Rate</th>\n",
       "      <th>Trip_Duration_Minutes</th>\n",
       "    </tr>\n",
       "  </thead>\n",
       "  <tbody>\n",
       "    <tr>\n",
       "      <th>0</th>\n",
       "      <td>19.350000</td>\n",
       "      <td>3.560000</td>\n",
       "      <td>0.80</td>\n",
       "      <td>0.32</td>\n",
       "      <td>53.82</td>\n",
       "    </tr>\n",
       "    <tr>\n",
       "      <th>1</th>\n",
       "      <td>47.590000</td>\n",
       "      <td>3.502989</td>\n",
       "      <td>0.62</td>\n",
       "      <td>0.43</td>\n",
       "      <td>40.57</td>\n",
       "    </tr>\n",
       "    <tr>\n",
       "      <th>2</th>\n",
       "      <td>36.870000</td>\n",
       "      <td>2.700000</td>\n",
       "      <td>1.21</td>\n",
       "      <td>0.15</td>\n",
       "      <td>37.27</td>\n",
       "    </tr>\n",
       "    <tr>\n",
       "      <th>3</th>\n",
       "      <td>30.330000</td>\n",
       "      <td>3.480000</td>\n",
       "      <td>0.51</td>\n",
       "      <td>0.15</td>\n",
       "      <td>116.81</td>\n",
       "    </tr>\n",
       "    <tr>\n",
       "      <th>4</th>\n",
       "      <td>27.070547</td>\n",
       "      <td>2.930000</td>\n",
       "      <td>0.63</td>\n",
       "      <td>0.32</td>\n",
       "      <td>22.64</td>\n",
       "    </tr>\n",
       "  </tbody>\n",
       "</table>\n",
       "</div>"
      ],
      "text/plain": [
       "   Trip_Distance_km  Base_Fare  Per_Km_Rate  Per_Minute_Rate  \\\n",
       "0         19.350000   3.560000         0.80             0.32   \n",
       "1         47.590000   3.502989         0.62             0.43   \n",
       "2         36.870000   2.700000         1.21             0.15   \n",
       "3         30.330000   3.480000         0.51             0.15   \n",
       "4         27.070547   2.930000         0.63             0.32   \n",
       "\n",
       "   Trip_Duration_Minutes  \n",
       "0                  53.82  \n",
       "1                  40.57  \n",
       "2                  37.27  \n",
       "3                 116.81  \n",
       "4                  22.64  "
      ]
     },
     "execution_count": 3,
     "metadata": {},
     "output_type": "execute_result"
    }
   ],
   "source": [
    "# merging features into one dataframe\n",
    "df_features = pd.concat([df_numeric, df_categorical], axis=1)\n",
    "\n",
    "X, y = df_features, df_target\n",
    "X.head()"
   ]
  },
  {
   "cell_type": "markdown",
   "id": "e40087c8",
   "metadata": {},
   "source": [
    "### train|test split"
   ]
  },
  {
   "cell_type": "code",
   "execution_count": 4,
   "id": "1d2bd7e9",
   "metadata": {},
   "outputs": [
    {
     "data": {
      "text/plain": [
       "((800, 5), (200, 5))"
      ]
     },
     "execution_count": 4,
     "metadata": {},
     "output_type": "execute_result"
    }
   ],
   "source": [
    "from sklearn.model_selection import train_test_split\n",
    "X_train, X_test, y_train, y_test = train_test_split(X, y, test_size=0.2, random_state=42)\n",
    "y_train = y_train.values.ravel()\n",
    "y_test = y_test.values.ravel()\n",
    "\n",
    "\n",
    "X_train.shape, X_test.shape"
   ]
  },
  {
   "cell_type": "markdown",
   "id": "4091511a",
   "metadata": {},
   "source": [
    "### method for prediction models "
   ]
  },
  {
   "cell_type": "markdown",
   "id": "b02f7c4b",
   "metadata": {},
   "source": [
    "https://www.geeksforgeeks.org/machine-learning/hyperparameter-tuning-in-linear-regression/"
   ]
  },
  {
   "cell_type": "code",
   "execution_count": 5,
   "id": "a2eafa77",
   "metadata": {},
   "outputs": [],
   "source": [
    "\n",
    "# creating a dict for different estimators to evaluate\n",
    "models = {\n",
    "    \"linear\": {\"model\": LinearRegression(), \"scale\": True},\n",
    "  \"ridge\": {\"model\": Ridge(), \"scale\": True},\n",
    "  \"lasso\":{\"model\": Lasso(), \"scale\": True},\n",
    "    \"knn\": {\"model\": KNeighborsRegressor(), \"scale\": True},\n",
    "    \"svr\": {\"model\": SVR(), \"scale\": True},\n",
    "    \"mlp\": {\"model\": MLPRegressor(max_iter=5000, random_state=42), \"scale\": True},\n",
    "    \"xgb\": {\"model\": XGBRegressor(random_state=42), \"scale\": True},\n",
    "    \"rf\": {\"model\": RandomForestRegressor(random_state=42), \"scale\": False}\n",
    "}"
   ]
  },
  {
   "cell_type": "code",
   "execution_count": 6,
   "id": "7255d421",
   "metadata": {},
   "outputs": [],
   "source": [
    "df_results = hyper_optimize(X_train, y_train, models)"
   ]
  },
  {
   "cell_type": "code",
   "execution_count": 7,
   "id": "403b7dfb",
   "metadata": {},
   "outputs": [
    {
     "data": {
      "text/html": [
       "<div>\n",
       "<style scoped>\n",
       "    .dataframe tbody tr th:only-of-type {\n",
       "        vertical-align: middle;\n",
       "    }\n",
       "\n",
       "    .dataframe tbody tr th {\n",
       "        vertical-align: top;\n",
       "    }\n",
       "\n",
       "    .dataframe thead th {\n",
       "        text-align: right;\n",
       "    }\n",
       "</style>\n",
       "<table border=\"1\" class=\"dataframe\">\n",
       "  <thead>\n",
       "    <tr style=\"text-align: right;\">\n",
       "      <th></th>\n",
       "      <th>Model</th>\n",
       "      <th>Best R2</th>\n",
       "      <th>Best Params</th>\n",
       "    </tr>\n",
       "  </thead>\n",
       "  <tbody>\n",
       "    <tr>\n",
       "      <th>5</th>\n",
       "      <td>mlp</td>\n",
       "      <td>0.891785</td>\n",
       "      <td>{'model__activation': 'relu', 'model__hidden_l...</td>\n",
       "    </tr>\n",
       "    <tr>\n",
       "      <th>6</th>\n",
       "      <td>xgb</td>\n",
       "      <td>0.869875</td>\n",
       "      <td>{'model__learning_rate': 0.05, 'model__max_dep...</td>\n",
       "    </tr>\n",
       "    <tr>\n",
       "      <th>4</th>\n",
       "      <td>svr</td>\n",
       "      <td>0.866089</td>\n",
       "      <td>{'model__C': 10, 'model__kernel': 'rbf'}</td>\n",
       "    </tr>\n",
       "    <tr>\n",
       "      <th>7</th>\n",
       "      <td>rf</td>\n",
       "      <td>0.863280</td>\n",
       "      <td>{'model__max_depth': 20, 'model__n_estimators'...</td>\n",
       "    </tr>\n",
       "    <tr>\n",
       "      <th>1</th>\n",
       "      <td>ridge</td>\n",
       "      <td>0.834864</td>\n",
       "      <td>{'model__alpha': 1.0}</td>\n",
       "    </tr>\n",
       "    <tr>\n",
       "      <th>2</th>\n",
       "      <td>lasso</td>\n",
       "      <td>0.834859</td>\n",
       "      <td>{'model__alpha': 0.01}</td>\n",
       "    </tr>\n",
       "    <tr>\n",
       "      <th>0</th>\n",
       "      <td>linear</td>\n",
       "      <td>0.834858</td>\n",
       "      <td>{'model__fit_intercept': True}</td>\n",
       "    </tr>\n",
       "    <tr>\n",
       "      <th>3</th>\n",
       "      <td>knn</td>\n",
       "      <td>0.809608</td>\n",
       "      <td>{'model__n_neighbors': 7}</td>\n",
       "    </tr>\n",
       "  </tbody>\n",
       "</table>\n",
       "</div>"
      ],
      "text/plain": [
       "    Model   Best R2                                        Best Params\n",
       "5     mlp  0.891785  {'model__activation': 'relu', 'model__hidden_l...\n",
       "6     xgb  0.869875  {'model__learning_rate': 0.05, 'model__max_dep...\n",
       "4     svr  0.866089           {'model__C': 10, 'model__kernel': 'rbf'}\n",
       "7      rf  0.863280  {'model__max_depth': 20, 'model__n_estimators'...\n",
       "1   ridge  0.834864                              {'model__alpha': 1.0}\n",
       "2   lasso  0.834859                             {'model__alpha': 0.01}\n",
       "0  linear  0.834858                     {'model__fit_intercept': True}\n",
       "3     knn  0.809608                          {'model__n_neighbors': 7}"
      ]
     },
     "execution_count": 7,
     "metadata": {},
     "output_type": "execute_result"
    }
   ],
   "source": [
    "\n",
    "df_results.sort_values(by=\"Best R2\", ascending=False)\n",
    "    "
   ]
  },
  {
   "cell_type": "code",
   "execution_count": 37,
   "id": "a3aed0ad",
   "metadata": {},
   "outputs": [
    {
     "ename": "KeyError",
     "evalue": "<class 'sklearn.neural_network._multilayer_perceptron.MLPRegressor'>",
     "output_type": "error",
     "traceback": [
      "\u001b[31m---------------------------------------------------------------------------\u001b[39m",
      "\u001b[31mKeyError\u001b[39m                                  Traceback (most recent call last)",
      "\u001b[36mCell\u001b[39m\u001b[36m \u001b[39m\u001b[32mIn[37]\u001b[39m\u001b[32m, line 1\u001b[39m\n\u001b[32m----> \u001b[39m\u001b[32m1\u001b[39m tuned_model = tune_model(df_results, models[\u001b[33m\"\u001b[39m\u001b[33mmlp\u001b[39m\u001b[33m\"\u001b[39m], \u001b[43mmodels\u001b[49m\u001b[43m[\u001b[49m\u001b[43mMLPRegressor\u001b[49m\u001b[43m]\u001b[49m)\n\u001b[32m      3\u001b[39m \u001b[38;5;66;03m# train/eval\u001b[39;00m\n\u001b[32m      4\u001b[39m model, metrics = train_evaluate(X_train, y_train, X_test, y_test, model=tuned_model)\n",
      "\u001b[31mKeyError\u001b[39m: <class 'sklearn.neural_network._multilayer_perceptron.MLPRegressor'>"
     ]
    }
   ],
   "source": [
    "\n",
    "tuned_model = tune_model(df_results, models[\"mlp\"], models[MLPRegressor])\n",
    "\n",
    "# train/eval\n",
    "model, metrics = train_evaluate(X_train, y_train, X_test, y_test, model=tuned_model)\n",
    "\n",
    "print(metrics)\n"
   ]
  },
  {
   "cell_type": "markdown",
   "id": "7f5ab015",
   "metadata": {},
   "source": [
    "### tuning the model for with cross-validation for omptimal hyperparameters"
   ]
  },
  {
   "cell_type": "code",
   "execution_count": 10,
   "id": "dc8f0102",
   "metadata": {},
   "outputs": [],
   "source": [
    "# metric_results = []\n",
    "\n",
    "# for model in models:\n",
    "#     model, metrics = train_evaluate(X_train, y_train, X_test, y_test, models)\n",
    "#     metric_results.append({\n",
    "#         \"Model\": model,\n",
    "#         \"MAE\": metrics[\"MAE\"],\n",
    "#         \"MSE\": metrics[\"MSE\"],\n",
    "#         \"RMSE\": metrics[\"RMSE\"],\n",
    "#         \"R2\": metrics[\"R2\"]\n",
    "#     })\n",
    "\n",
    "# results_df = pd.DataFrame(metric_results).sort_values(by=\"R2\", ascending=False)\n",
    "# print(results_df)"
   ]
  },
  {
   "cell_type": "markdown",
   "id": "24a37d6a",
   "metadata": {},
   "source": [
    "### exporting data using joblib"
   ]
  },
  {
   "cell_type": "code",
   "execution_count": 11,
   "id": "0aab9f33",
   "metadata": {},
   "outputs": [],
   "source": [
    "# model, metrics = train_evaluate(X_train, y_train, X_test, y_test, model_type=\"random_forest\", model_path=\"random_forest.joblib\")\n",
    "# loaded_model = joblib.load(\"random_forest.joblib\")\n",
    "# loaded_model"
   ]
  }
 ],
 "metadata": {
  "kernelspec": {
   "display_name": "taxi-prediction-fullstack-stefan-lundberg-opa24 (3.13.7)",
   "language": "python",
   "name": "python3"
  },
  "language_info": {
   "codemirror_mode": {
    "name": "ipython",
    "version": 3
   },
   "file_extension": ".py",
   "mimetype": "text/x-python",
   "name": "python",
   "nbconvert_exporter": "python",
   "pygments_lexer": "ipython3",
   "version": "3.13.7"
  }
 },
 "nbformat": 4,
 "nbformat_minor": 5
}
